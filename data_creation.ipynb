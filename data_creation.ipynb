{
 "cells": [
  {
   "cell_type": "code",
   "execution_count": 1,
   "id": "1d10bbc7",
   "metadata": {},
   "outputs": [],
   "source": [
    "import pickle\n",
    "\n",
    "import numpy as np\n",
    "import pandas as pd\n",
    "import spacy"
   ]
  },
  {
   "cell_type": "code",
   "execution_count": null,
   "id": "4486570e",
   "metadata": {},
   "outputs": [],
   "source": [
    "fr = spacy.load('fr_core_news_sm')"
   ]
  },
  {
   "cell_type": "code",
   "execution_count": null,
   "id": "7c69cb71",
   "metadata": {},
   "outputs": [],
   "source": [
    "df = pd.read_json(\"scraper/canebiere.jsonl\", orient=\"record\", lines=True, convert_dates=False)"
   ]
  },
  {
   "cell_type": "code",
   "execution_count": null,
   "id": "0f4a286c",
   "metadata": {},
   "outputs": [],
   "source": [
    "df.columns = [\"Titre\", \"Date\", \"Commentaires\",\"html\", \"full_text\", \"url\", \"Auteur\"]\n",
    "df[\"Date\"] = pd.to_datetime(df[\"Date\"], dayfirst=True)\n",
    "df[\"Mois\"] = df['Date'].dt.to_period('M')\n",
    "df[\"Année\"] = df['Date'].dt.to_period('Y')\n",
    "df[\"Publications\"] = 1"
   ]
  },
  {
   "cell_type": "code",
   "execution_count": null,
   "id": "f5ca5b05",
   "metadata": {},
   "outputs": [],
   "source": [
    "df[\"docs\"] = df[\"full_text\"].str.strip().progress_apply(fr)\n",
    "df[\"nb_tokens\"] = df[\"docs\"].apply(len)\n",
    "df[\"title_doc\"] = df[\"Titre\"].apply(fr)"
   ]
  },
  {
   "cell_type": "code",
   "execution_count": null,
   "id": "6bab0645",
   "metadata": {},
   "outputs": [],
   "source": [
    "with open(\"canebiere.pickle\", \"wb\") as out:\n",
    "    pickle.dump(df, out)"
   ]
  }
 ],
 "metadata": {
  "kernelspec": {
   "display_name": "Python 3",
   "language": "python",
   "name": "python3"
  },
  "language_info": {
   "codemirror_mode": {
    "name": "ipython",
    "version": 3
   },
   "file_extension": ".py",
   "mimetype": "text/x-python",
   "name": "python",
   "nbconvert_exporter": "python",
   "pygments_lexer": "ipython3",
   "version": "3.7.10"
  }
 },
 "nbformat": 4,
 "nbformat_minor": 5
}
