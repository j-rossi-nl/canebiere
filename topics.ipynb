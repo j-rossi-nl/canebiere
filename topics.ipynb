{
 "cells": [
  {
   "cell_type": "code",
   "execution_count": null,
   "metadata": {},
   "outputs": [],
   "source": [
    "import pandas as pd\n",
    "import re\n",
    "\n",
    "from wordcloud import WordCloud, STOPWORDS, ImageColorGenerator\n",
    "from gensim.corpora import Dictionary\n",
    "from gensim.models.ldamodel import LdaModel\n",
    "\n",
    "# Load data\n",
    "articles = pd.read_csv('scraper/canebiere.csv')\n",
    "articles = articles.dropna()\n"
   ]
  },
  {
   "cell_type": "code",
   "execution_count": null,
   "metadata": {},
   "outputs": [],
   "source": [
    "\n",
    "all_tokens = [[w for w in re.sub(\"[^A-Za-z]\", \" \", t.lower()).split() if len(w)>3] for t in articles['full_text'].values]\n",
    "dictionary = Dictionary(all_tokens)\n",
    "\n",
    "# remove stopwords\n",
    "from six import iteritems\n",
    "from stop_words import get_stop_words\n",
    "\n",
    "stoplist = set(get_stop_words('fr'))\n",
    "\n",
    "stop_ids = [dictionary.token2id[stopword] for stopword in stoplist if stopword in dictionary.token2id]\n",
    "once_ids = [tokenid for tokenid, docfreq in iteritems(dictionary.dfs) if docfreq == 1]\n",
    "dictionary.filter_tokens(stop_ids)  # remove stop words and words that appear only once\n",
    "dictionary.compactify()  # remove gaps in id sequence after words that were removed\n",
    "\n",
    "# counter corpus\n",
    "counter = list(dictionary.doc2bow(text) for text in all_tokens)\n",
    "\n",
    "\n"
   ]
  },
  {
   "cell_type": "code",
   "execution_count": null,
   "metadata": {},
   "outputs": [],
   "source": [
    "num_topics = 10\n",
    "lda = LdaModel(corpus=counter, id2word=dictionary, num_topics=num_topics)\n",
    "topics = lda.show_topics(num_topics=num_topics, log=False, formatted=False)\n",
    "\n",
    "print('Dictionary: {} docs, {} terms'.format(dictionary.num_docs, len(dictionary.dfs)))\n",
    "\n",
    "for t in topics:\n",
    "    t_str = \"Topic {}: \".format(t[0])\n",
    "    for w in t[1]:\n",
    "        t_str += \"{} \".format(w[0])\n",
    "    print(t_str)\n"
   ]
  },
  {
   "cell_type": "code",
   "execution_count": null,
   "metadata": {},
   "outputs": [],
   "source": [
    "import pyLDAvis\n",
    "import pyLDAvis.gensim\n",
    "import warnings\n",
    "warnings.filterwarnings(\"ignore\",category=FutureWarning)\n",
    "\n",
    "# Vizualization of the LDA-model on the data\n",
    "LDA_visualization = pyLDAvis.gensim.prepare(lda, counter, dictionary)\n",
    "pyLDAvis.display(LDA_visualization)"
   ]
  },
  {
   "cell_type": "code",
   "execution_count": null,
   "metadata": {},
   "outputs": [],
   "source": []
  },
  {
   "cell_type": "code",
   "execution_count": null,
   "metadata": {},
   "outputs": [],
   "source": [
    "import matplotlib.pyplot as plt\n",
    "\n",
    "# The wordcloud\n",
    "stoplist = set(get_stop_words('fr'))\n",
    "\n",
    "cloud = WordCloud(stopwords=stoplist, max_words=20, background_color='white').generate(' '.join(articles[articles['author'] == 'Blaah']['full_text'].values))\n",
    "#cloud.to_file('cloud.png')\n",
    "\n",
    "plt.figure(figsize=(10,10))\n",
    "plt.imshow(cloud, interpolation=\"bilinear\")\n",
    "plt.axis(\"off\")\n",
    "plt.show()\n"
   ]
  },
  {
   "cell_type": "code",
   "execution_count": null,
   "metadata": {},
   "outputs": [],
   "source": []
  }
 ],
 "metadata": {
  "kernelspec": {
   "display_name": "Python 3",
   "language": "python",
   "name": "python3"
  },
  "language_info": {
   "codemirror_mode": {
    "name": "ipython",
    "version": 3
   },
   "file_extension": ".py",
   "mimetype": "text/x-python",
   "name": "python",
   "nbconvert_exporter": "python",
   "pygments_lexer": "ipython3",
   "version": "3.7.3"
  }
 },
 "nbformat": 4,
 "nbformat_minor": 2
}
