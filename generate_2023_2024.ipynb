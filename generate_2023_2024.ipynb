{
 "cells": [
  {
   "cell_type": "code",
   "execution_count": 1,
   "metadata": {},
   "outputs": [],
   "source": [
    "import pickle\n",
    "\n",
    "import altair as alt\n",
    "import pandas as pd\n",
    "\n",
    "from utils.data import notes, resultats"
   ]
  },
  {
   "cell_type": "code",
   "execution_count": 2,
   "metadata": {
    "pycharm": {
     "name": "#%%\n"
    }
   },
   "outputs": [],
   "source": [
    "pd.options.display.max_colwidth = 200\n",
    "DEFAULT_WIDTH = 800\n",
    "\n",
    "_ = alt.data_transformers.disable_max_rows()"
   ]
  },
  {
   "cell_type": "code",
   "execution_count": 8,
   "metadata": {
    "pycharm": {
     "name": "#%%\n"
    }
   },
   "outputs": [],
   "source": [
    "with open(\"canebiere.pickle\", \"rb\") as src:\n",
    "    df: pd.DataFrame = pickle.load(src)\n"
   ]
  },
  {
   "cell_type": "code",
   "execution_count": 9,
   "metadata": {},
   "outputs": [],
   "source": [
    "def date_to_season(date: pd.Timestamp) -> str:\n",
    "    # La saison N/N+1 dure du 1er Aout N au 31 Juillet N+1\n",
    "    month = date.month\n",
    "    year = date.year\n",
    "\n",
    "    if month <= 7:\n",
    "        season = f'{year-1}-{year}'\n",
    "    else:\n",
    "        season = f'{year}-{year+1}'\n",
    "\n",
    "    return season\n",
    "    \n",
    "df['Saison'] = df['Date'].apply(date_to_season)"
   ]
  },
  {
   "cell_type": "code",
   "execution_count": 10,
   "metadata": {},
   "outputs": [],
   "source": [
    "blaah = df[df['Auteur'] == 'Blaah'].reset_index()\n",
    "\n",
    "matchs = resultats(blaah)\n",
    "notation = notes(blaah)"
   ]
  },
  {
   "cell_type": "code",
   "execution_count": 11,
   "metadata": {},
   "outputs": [],
   "source": [
    "matchs['Saison'] = matchs['Date'].apply(date_to_season)\n",
    "notation['Saison'] = notation['Date'].apply(date_to_season)\n",
    "\n",
    "matchs[\"Nb Buts\"] = matchs[\"Buts_R\"] + matchs[\"Buts_V\"]\n",
    "\n",
    "matchs[\"Victoire\"] = matchs[\"Buts_OM\"] > matchs[\"Buts_Adversaire\"]\n",
    "matchs[\"Défaite\"] =  matchs[\"Buts_OM\"] < matchs[\"Buts_Adversaire\"]\n",
    "matchs[\"Nul\"] =  matchs[\"Buts_OM\"] == matchs[\"Buts_Adversaire\"]\n",
    "matchs['Ecart'] = matchs['Buts_OM'] - matchs['Buts_Adversaire']"
   ]
  },
  {
   "cell_type": "code",
   "execution_count": 7,
   "metadata": {},
   "outputs": [],
   "source": [
    "matchs_saison = matchs[matchs['Saison'] == '2023-2024']\n",
    "notation_saison = notation[notation['Saison'] == '2023-2024']"
   ]
  },
  {
   "cell_type": "markdown",
   "metadata": {},
   "source": [
    "# Saison 2023-2024"
   ]
  },
  {
   "cell_type": "markdown",
   "metadata": {},
   "source": [
    "# Des matchs, des résultats"
   ]
  },
  {
   "cell_type": "code",
   "execution_count": 8,
   "metadata": {},
   "outputs": [
    {
     "name": "stderr",
     "output_type": "stream",
     "text": [
      "/home/juju/.cache/pypoetry/virtualenvs/canebiere-uEvimNuA-py3.8/lib/python3.8/site-packages/altair/utils/core.py:219: UserWarning: I don't know how to infer vegalite type from 'empty'.  Defaulting to nominal.\n",
      "  warnings.warn(\n"
     ]
    },
    {
     "data": {
      "text/html": [
       "\n",
       "<div id=\"altair-viz-9430a0202f9b421a95692df994d553aa\"></div>\n",
       "<script type=\"text/javascript\">\n",
       "  var VEGA_DEBUG = (typeof VEGA_DEBUG == \"undefined\") ? {} : VEGA_DEBUG;\n",
       "  (function(spec, embedOpt){\n",
       "    let outputDiv = document.currentScript.previousElementSibling;\n",
       "    if (outputDiv.id !== \"altair-viz-9430a0202f9b421a95692df994d553aa\") {\n",
       "      outputDiv = document.getElementById(\"altair-viz-9430a0202f9b421a95692df994d553aa\");\n",
       "    }\n",
       "    const paths = {\n",
       "      \"vega\": \"https://cdn.jsdelivr.net/npm//vega@5?noext\",\n",
       "      \"vega-lib\": \"https://cdn.jsdelivr.net/npm//vega-lib?noext\",\n",
       "      \"vega-lite\": \"https://cdn.jsdelivr.net/npm//vega-lite@4.17.0?noext\",\n",
       "      \"vega-embed\": \"https://cdn.jsdelivr.net/npm//vega-embed@6?noext\",\n",
       "    };\n",
       "\n",
       "    function maybeLoadScript(lib, version) {\n",
       "      var key = `${lib.replace(\"-\", \"\")}_version`;\n",
       "      return (VEGA_DEBUG[key] == version) ?\n",
       "        Promise.resolve(paths[lib]) :\n",
       "        new Promise(function(resolve, reject) {\n",
       "          var s = document.createElement('script');\n",
       "          document.getElementsByTagName(\"head\")[0].appendChild(s);\n",
       "          s.async = true;\n",
       "          s.onload = () => {\n",
       "            VEGA_DEBUG[key] = version;\n",
       "            return resolve(paths[lib]);\n",
       "          };\n",
       "          s.onerror = () => reject(`Error loading script: ${paths[lib]}`);\n",
       "          s.src = paths[lib];\n",
       "        });\n",
       "    }\n",
       "\n",
       "    function showError(err) {\n",
       "      outputDiv.innerHTML = `<div class=\"error\" style=\"color:red;\">${err}</div>`;\n",
       "      throw err;\n",
       "    }\n",
       "\n",
       "    function displayChart(vegaEmbed) {\n",
       "      vegaEmbed(outputDiv, spec, embedOpt)\n",
       "        .catch(err => showError(`Javascript Error: ${err.message}<br>This usually means there's a typo in your chart specification. See the javascript console for the full traceback.`));\n",
       "    }\n",
       "\n",
       "    if(typeof define === \"function\" && define.amd) {\n",
       "      requirejs.config({paths});\n",
       "      require([\"vega-embed\"], displayChart, err => showError(`Error loading script: ${err.message}`));\n",
       "    } else {\n",
       "      maybeLoadScript(\"vega\", \"5\")\n",
       "        .then(() => maybeLoadScript(\"vega-lite\", \"4.17.0\"))\n",
       "        .then(() => maybeLoadScript(\"vega-embed\", \"6\"))\n",
       "        .catch(showError)\n",
       "        .then(() => displayChart(vegaEmbed));\n",
       "    }\n",
       "  })({\"config\": {\"view\": {\"continuousWidth\": 400, \"continuousHeight\": 300}, \"axisY\": {\"grid\": false, \"labelFontSize\": 18, \"labelPadding\": 20}}, \"data\": {\"name\": \"data-d751713988987e9331980363e24189ce\"}, \"mark\": \"bar\", \"encoding\": {\"color\": {\"field\": \"variable\", \"scale\": {\"domain\": [\"Victoire\", \"Nul\", \"D\\u00e9faite\"], \"range\": [\"#54a24b\", \"#d8b5a5\", \"#e45756\"]}, \"title\": \"R\\u00e9sultat\", \"type\": \"nominal\"}, \"order\": {\"field\": \"variable\", \"sort\": \"descending\", \"type\": \"nominal\"}, \"tooltip\": [{\"field\": \"Saison\", \"title\": \"Saison\", \"type\": \"nominal\"}, {\"field\": \"variable\", \"title\": \"R\\u00e9sultat\", \"type\": \"nominal\"}, {\"field\": \"value\", \"title\": \"Acad\\u00e9mies\", \"type\": \"quantitative\"}], \"x\": {\"field\": \"value\", \"title\": \"\", \"type\": \"quantitative\"}}, \"width\": 800, \"$schema\": \"https://vega.github.io/schema/vega-lite/v4.17.0.json\", \"datasets\": {\"data-d751713988987e9331980363e24189ce\": []}}, {\"mode\": \"vega-lite\"});\n",
       "</script>"
      ],
      "text/plain": [
       "alt.Chart(...)"
      ]
     },
     "execution_count": 8,
     "metadata": {},
     "output_type": "execute_result"
    }
   ],
   "source": [
    "vnd = matchs_saison.groupby('Saison').agg({'Victoire': 'sum', 'Défaite': 'sum', 'Nul': 'sum'}).reset_index().melt(id_vars='Saison', value_vars=['Victoire', 'Nul', 'Défaite'])\n",
    "\n",
    "alt.Chart(vnd).mark_bar().encode(\n",
    "    x=alt.X(\n",
    "        'value:Q', \n",
    "        title='',\n",
    "    ),\n",
    "    color=alt.Color(\n",
    "        'variable', \n",
    "        title='Résultat', \n",
    "        scale=alt.Scale(\n",
    "            domain=['Victoire', 'Nul', 'Défaite'], \n",
    "            range=['#54a24b', '#d8b5a5', '#e45756']\n",
    "        )\n",
    "    ),\n",
    "    tooltip=[alt.Tooltip(\"Saison\", title=\"Saison\"), alt.Tooltip(\"variable\", title='Résultat'), alt.Tooltip(\"value\", title=\"Académies\")],\n",
    "    order=alt.Order(\n",
    "        'variable',\n",
    "        sort='descending'\n",
    "    )\n",
    ").properties(\n",
    "    width=800\n",
    ").configure_axisY(\n",
    "    labelPadding=20, \n",
    "    labelFontSize=18,\n",
    "    grid=False,\n",
    ")\n"
   ]
  },
  {
   "cell_type": "markdown",
   "metadata": {},
   "source": [
    "# Des matchs, des buts"
   ]
  },
  {
   "cell_type": "code",
   "execution_count": null,
   "metadata": {},
   "outputs": [],
   "source": [
    "alt.Chart(matchs_saison[['Nb Buts']]).mark_bar().encode(\n",
    "    x=alt.X(\"Nb Buts:O\", axis=alt.Axis(labelAngle=0), title=\"Nombre de buts dans un match\"),\n",
    "    y=alt.Y(\"count():Q\", title=\"Matchs\"),\n",
    "    color=alt.Color(\"Nb Buts:O\", scale=alt.Scale(scheme=\"greens\")),\n",
    "    tooltip=[\"Nb Buts:O\", alt.Tooltip(\"count():Q\", title=\"Nb Matches\")]\n",
    ").properties(\n",
    "    width=DEFAULT_WIDTH\n",
    ")"
   ]
  },
  {
   "cell_type": "code",
   "execution_count": null,
   "metadata": {},
   "outputs": [],
   "source": [
    "alt.Chart(matchs_saison[[\"Buts_OM\"]]).mark_bar().encode(\n",
    "    x=alt.X(\"Buts_OM:O\", title=\"Buts de l'OM\", axis=alt.Axis(labelAngle=0)),\n",
    "    y=alt.Y(\"count():Q\", title='Matchs'),\n",
    "    color=alt.Color(\"Buts_OM:O\", scale=alt.Scale(scheme='blues'), title='Buts de l\\'OM'),\n",
    "    tooltip=[alt.Tooltip(\"Buts_OM:O\", title=\"Buts de l'OM\"), alt.Tooltip(\"count():Q\", title=\"Nb Matches\")]\n",
    ").properties(\n",
    "    width=DEFAULT_WIDTH\n",
    ")"
   ]
  },
  {
   "cell_type": "code",
   "execution_count": null,
   "metadata": {},
   "outputs": [],
   "source": [
    "alt.Chart(matchs_saison[[\"Buts_Adversaire\"]]).mark_bar().encode(\n",
    "    x=alt.X(\"Buts_Adversaire:O\", title=\"Buts de l'adversaire\", axis=alt.Axis(labelAngle=0)),\n",
    "    y=alt.Y(\"count():Q\", title=\"Matchs\"),\n",
    "    color=alt.Color(\"Buts_Adversaire:O\", scale=alt.Scale(scheme=\"reds\"), title='But de l\\'Adversaire'),\n",
    "    tooltip=[alt.Tooltip(\"Buts_Adversaire:O\", title=\"Buts de l'Adversaire\"), alt.Tooltip(\"count():Q\", title=\"Nb Matches\")]\n",
    ").properties(\n",
    "    width=DEFAULT_WIDTH\n",
    ")"
   ]
  },
  {
   "cell_type": "code",
   "execution_count": null,
   "metadata": {},
   "outputs": [],
   "source": [
    "alt.Chart(matchs_saison[[\"Ecart\"]]).mark_bar().encode(\n",
    "    x=alt.X(\"Ecart:O\", title=\"Écart au score\", axis=alt.Axis(labelAngle=0)),\n",
    "    y=alt.Y(\"count():Q\", title=\"Matchs\"),\n",
    "    color=alt.Color(\"Ecart:O\", scale=alt.Scale(scheme=\"redyellowgreen\"), title='Écart'),\n",
    "    tooltip=[alt.Tooltip(\"Ecart:O\", title=\"Écart au score\"), alt.Tooltip(\"count():Q\", title=\"Nb Matches\")]\n",
    ").properties(\n",
    "    width=DEFAULT_WIDTH\n",
    ")"
   ]
  },
  {
   "cell_type": "markdown",
   "metadata": {},
   "source": [
    "# Des notes"
   ]
  },
  {
   "cell_type": "code",
   "execution_count": null,
   "metadata": {},
   "outputs": [],
   "source": [
    "overall = notation_saison.groupby(['Note_num', 'Note_txt']).agg({\"Joueur\": \"count\", \"sort\": \"max\"}).reset_index()\n",
    "\n",
    "alt.Chart(overall).mark_circle().encode(\n",
    "    x=alt.X(\n",
    "        'Note_num:Q',\n",
    "        title='Note',\n",
    "        axis=None\n",
    "    ),\n",
    "    y=alt.datum(\"Toutes les notes\"),\n",
    "    color=alt.Color(\n",
    "        'Note_num:Q', \n",
    "        legend=None, \n",
    "        scale=alt.Scale(domain=[0.0,5.0], scheme=\"redyellowgreen\")\n",
    "    ),\n",
    "    size=alt.Size(\n",
    "        \"Joueur:Q\",\n",
    "        legend=None,\n",
    "        scale=alt.Scale(domain=[0.0, overall[\"Joueur\"].max()], range=[0.0, 4000.0])\n",
    "    ),\n",
    "    tooltip=[alt.Tooltip(\"Note_txt:N\", title=\"Note\"), alt.Tooltip(\"Joueur:N\", title=\"# Attributions\")]\n",
    ").properties(\n",
    "    title='2021-2022',\n",
    "    width=800\n",
    ").configure_axis(\n",
    "    grid=False\n",
    ").configure_view(\n",
    "    strokeWidth=0,\n",
    ").configure_axisY(\n",
    "    labelPadding=20, \n",
    "    labelFontSize=18,\n",
    "    grid=False,\n",
    ")\n"
   ]
  },
  {
   "cell_type": "code",
   "execution_count": null,
   "metadata": {},
   "outputs": [],
   "source": [
    "by_joueur = notation_saison.groupby(\"Joueur\").agg({\"Note_num\": [\"count\", \"mean\"]})\n",
    "by_joueur.columns = by_joueur.columns.droplevel()\n",
    "by_joueur.reset_index(inplace=True)\n",
    "\n",
    "alt.Chart(by_joueur).mark_bar().encode(\n",
    "    x=alt.X(\"count:Q\", title=\"Nombre de Notes\"),\n",
    "    y=alt.Y(\n",
    "        field=\"Joueur\", \n",
    "        type=\"ordinal\", \n",
    "        sort=\"-x\",\n",
    "        axis=alt.Axis(labelFontSize=14)\n",
    "    ),\n",
    "    color=alt.Color(\"count:Q\", title=\"Nombre de Notes\", scale=alt.Scale(scheme=\"blues\")),\n",
    "    tooltip=[\"Joueur\", alt.Tooltip(\"count:Q\", title=\"# Notes\")]\n",
    ").configure_header(\n",
    "    titleColor='green',\n",
    "    titleFontSize=14,\n",
    "    labelColor='red',\n",
    "    labelFontSize=14\n",
    ").configure_view(\n",
    "    width=800\n",
    ")"
   ]
  },
  {
   "cell_type": "markdown",
   "metadata": {},
   "source": [
    "# Des notes, des moyennes"
   ]
  },
  {
   "cell_type": "code",
   "execution_count": null,
   "metadata": {},
   "outputs": [],
   "source": [
    "alt.Chart(notation_saison).mark_bar().transform_aggregate(\n",
    "    count=\"count(Note_num)\",\n",
    "    moyenne=\"mean(Note_num)\",\n",
    "    groupby=[\"Joueur\"]\n",
    ").transform_filter(\n",
    "    alt.datum.count > 1\n",
    ").encode(\n",
    "    x=alt.X(\"moyenne:Q\", title=\"Moyenne\"),\n",
    "    y=alt.Y(\n",
    "        field=\"Joueur\", \n",
    "        type=\"ordinal\", \n",
    "        sort=\"-x\",\n",
    "        axis=alt.Axis(labelFontSize=14)\n",
    "    ),\n",
    "    color=alt.Color(\"moyenne:Q\", title=\"Moyenne\", scale=alt.Scale(scheme=\"redyellowgreen\", domain=[1.0, 3.5])),\n",
    "    tooltip=[\"Joueur\", alt.Tooltip(\"count:Q\", title=\"# Notes\"), alt.Tooltip(\"moyenne:Q\", title=\"Moyenne\", format='.2f')]\n",
    ").configure_header(\n",
    "    titleColor='green',\n",
    "    titleFontSize=14,\n",
    "    labelColor='red',\n",
    "    labelFontSize=14\n",
    ").configure_view(\n",
    "    width=800\n",
    ")"
   ]
  },
  {
   "cell_type": "markdown",
   "metadata": {},
   "source": [
    "# Des joueurs, des notes"
   ]
  },
  {
   "cell_type": "markdown",
   "metadata": {},
   "source": [
    "# Des joueurs, des notes"
   ]
  },
  {
   "cell_type": "code",
   "execution_count": null,
   "metadata": {},
   "outputs": [],
   "source": [
    "by_match_by_note = notation_saison.groupby([\"Saison\", \"Match\", \"Match_Teams\", \"Note_num\", \"Note_txt\"]).agg({\"Joueur\": \"count\", \"sort\": \"max\"}).reset_index()\n",
    "fuse = notation_saison.set_index('Date').join(matchs_saison.set_index('Date'), how='inner', lsuffix='_notes', rsuffix='_matchs')"
   ]
  },
  {
   "cell_type": "code",
   "execution_count": null,
   "metadata": {},
   "outputs": [],
   "source": [
    "step = 30\n",
    "overlap = 0.5\n",
    "\n",
    "alt.Chart(fuse[['Joueur', 'Note_num']], height=step, width=800).transform_joinaggregate(\n",
    "    mean_note='mean(Note_num)', groupby=['Joueur']\n",
    ").transform_bin(\n",
    "    ['bin_max', 'bin_min'], 'Note_num'\n",
    ").transform_aggregate(\n",
    "    value='count()', groupby=['Joueur', 'mean_note', 'bin_min', 'bin_max']\n",
    ").transform_impute(\n",
    "    impute='value', groupby=['Joueur', 'mean_note'], key='bin_min', value=0\n",
    ").mark_area(\n",
    "    interpolate='monotone',\n",
    "    fillOpacity=0.8,\n",
    "    stroke='lightgray',\n",
    "    strokeWidth=0.5\n",
    ").encode(\n",
    "    x=alt.X('bin_min:Q', bin='binned', title='Note / 5'),\n",
    "    y=alt.Y(\n",
    "        'value:Q',\n",
    "        scale=alt.Scale(range=[step, -step * overlap]),\n",
    "        axis=None\n",
    "    ),\n",
    "    fill=alt.Fill(\n",
    "        'mean_note:Q',\n",
    "        legend=alt.Legend(title='Moyenne'),\n",
    "        scale=alt.Scale(domain=[1.0, 3.5], scheme='redyellowgreen')\n",
    "    ),\n",
    "    tooltip=['Joueur:N', alt.Tooltip('mean_note:Q', title='Moyenne', format='.1f')]\n",
    ").facet(\n",
    "    row=alt.Row(\n",
    "        'Joueur:N',\n",
    "        title=None,\n",
    "        header=alt.Header(labelAngle=0, labelAlign='left', labelFontSize=14, labelBaseline='top'),\n",
    "    )\n",
    ").properties(\n",
    "    title='OM 2022-2023',\n",
    "    bounds='flush',\n",
    ").configure_facet(\n",
    "    spacing=0,\n",
    ").configure_view(\n",
    "    stroke=None\n",
    ").configure_title(\n",
    "    anchor='end'\n",
    ")"
   ]
  },
  {
   "cell_type": "markdown",
   "metadata": {},
   "source": [
    "# Des matchs, des notes"
   ]
  },
  {
   "cell_type": "code",
   "execution_count": null,
   "metadata": {},
   "outputs": [],
   "source": [
    "base_circles = alt.Chart(by_match_by_note).mark_circle().encode(\n",
    "    x=alt.X(\n",
    "        'Note_num:Q',\n",
    "        title='Note',\n",
    "        axis=alt.Axis(grid=False, ticks=False, labels=False, domain=False)\n",
    "    ),\n",
    "    y=alt.Y(\n",
    "        'Match_Teams:N',\n",
    "        title=None,\n",
    "        axis=alt.Axis(ticks=False, grid=False, labelPadding=180, labelFontSize=14, labelAlign='left', domain=False),\n",
    "        sort=alt.EncodingSortField(\"sort\", op=\"max\", order=\"ascending\")\n",
    "    ),\n",
    "    color=alt.Color(\n",
    "        'Note_num:Q', \n",
    "        legend=None, \n",
    "        scale=alt.Scale(domain=[0.0,5.0], scheme=\"redyellowgreen\")\n",
    "    ),\n",
    "    size=alt.Size(\n",
    "        \"Joueur:Q\",\n",
    "        legend=None,\n",
    "        scale=alt.Scale(domain=[0.0, by_match_by_note[\"Joueur\"].max()], range=[0.0, 4000.0])\n",
    "    ),\n",
    "    tooltip=[alt.Tooltip(\"Match_Teams:N\", title=\"Match\"), alt.Tooltip(\"Note_txt:N\", title=\"Note\"), alt.Tooltip(\"Joueur:N\", title=\"# Joueurs\")]\n",
    ").properties(\n",
    "    title='2022-2023',\n",
    "    width=800\n",
    ")\n",
    "\n",
    "dots = alt.Chart(fuse).mark_circle(size=200).encode(\n",
    "    y=alt.Y(\n",
    "        'Match_Teams:N',\n",
    "        axis=alt.Axis(ticks=False, labels=False, title=\"\", domain=False), \n",
    "        sort=alt.EncodingSortField(\"sort\", op=\"max\", order=\"ascending\")\n",
    "    ),\n",
    "    color=alt.Color('Résultat', legend=None, scale=alt.Scale(domain=['Victoire', 'Nul', 'Défaite'], range=['#54a24b', '#d8b5a5', '#e45756'])),\n",
    "    tooltip=[alt.Tooltip('Match_Teams:N', title=\"Match\"), 'Résultat:N']\n",
    ")\n",
    "\n",
    "line = alt.Chart(fuse).mark_line().encode(\n",
    "    y=alt.Y('Match_Teams:N', sort=alt.EncodingSortField(\"sort\", op=\"max\", order=\"ascending\")),\n",
    ")\n",
    "\n"
   ]
  },
  {
   "cell_type": "code",
   "execution_count": null,
   "metadata": {},
   "outputs": [],
   "source": [
    "(line + dots | base_circles).configure_view(strokeWidth=0)"
   ]
  },
  {
   "cell_type": "code",
   "execution_count": null,
   "metadata": {},
   "outputs": [],
   "source": [
    "# from sklearn.ensemble import HistGradientBoostingClassifier\n",
    "# from sklearn.metrics import classification_report\n",
    "# from sklearn.metrics import ConfusionMatrixDisplay\n",
    "# from sklearn.inspection import permutation_importance\n",
    "\n",
    "# pivot = fuse[['Joueur', 'Note_num']].pivot(columns='Joueur', values='Note_num')\n",
    "# pivot['Resultat'] = matchs_saison.set_index('Date')['Résultat']\n",
    "\n",
    "# X = pivot[[x for x in pivot.columns if x != 'Resultat']]\n",
    "# y = pivot['Resultat']\n",
    "\n",
    "# clf: HistGradientBoostingClassifier = HistGradientBoostingClassifier()\n",
    "# _ = clf.fit(X, y)\n",
    "\n",
    "# print(classification_report(y_true=y, y_pred=clf.predict(X)))\n",
    "\n",
    "# _ = ConfusionMatrixDisplay.from_estimator(clf, X, y, normalize='pred', values_format='.2f', cmap='Blues')\n",
    "\n",
    "\n",
    "# result = permutation_importance(\n",
    "#     clf, X, y, n_repeats=10, random_state=42, n_jobs=2\n",
    "# )\n",
    "\n",
    "# sorted_importances_idx = result.importances_mean.argsort()[::-1]\n",
    "# importances = pd.DataFrame(\n",
    "#     result.importances[sorted_importances_idx].T,\n",
    "#     columns=X.columns[sorted_importances_idx],\n",
    "# )\n",
    "\n",
    "# _ = alt.Chart(importances.melt()).mark_boxplot().encode(\n",
    "#     x='value',\n",
    "#     y=alt.X('Joueur', sort=alt.EncodingSortField('mean(value)'), axis=alt.Axis(labelFontSize=14)),\n",
    "#     color=alt.Color('mean(value)', scale=alt.Scale(domain=[0, 0.16], scheme='redyellowgreen'))\n",
    "# )"
   ]
  },
  {
   "cell_type": "code",
   "execution_count": null,
   "metadata": {},
   "outputs": [],
   "source": []
  }
 ],
 "metadata": {
  "kernelspec": {
   "display_name": "Python 3 (ipykernel)",
   "language": "python",
   "name": "python3"
  },
  "language_info": {
   "codemirror_mode": {
    "name": "ipython",
    "version": 3
   },
   "file_extension": ".py",
   "mimetype": "text/x-python",
   "name": "python",
   "nbconvert_exporter": "python",
   "pygments_lexer": "ipython3",
   "version": "3.8.13"
  },
  "title": "Saison 2022-2023",
  "vscode": {
   "interpreter": {
    "hash": "e5814e86335ac535c2e455f528ce1787ed00bb0d4d798c5effae3e547f4503a7"
   }
  }
 },
 "nbformat": 4,
 "nbformat_minor": 4
}
