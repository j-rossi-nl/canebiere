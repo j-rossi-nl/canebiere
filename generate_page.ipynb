{
 "cells": [
  {
   "cell_type": "markdown",
   "id": "e54b3d71",
   "metadata": {},
   "source": [
    "# La Canebière Académie\n",
    "\n",
    "> ## [La saison 2023-2024 (en cours)](2023_2024.html)\n",
    "\n",
    "> ## [La saison 2022-2023](2022_2023.html)\n",
    "\n",
    "> ## [La saison 2021-2022](2021_2022.html)\n",
    "\n",
    "> ## [Des textes, des mots](words.html)\n",
    "\n",
    "> ## [Des buts, des scores, des adversaires](opponents.html)\n",
    "\n",
    "> ## [Des joueurs, des notes](notes.html)\n",
    "\n",
    "> ## [Des auteurs, des académies](academies.html)"
   ]
  },
  {
   "cell_type": "markdown",
   "id": "5e76109f",
   "metadata": {},
   "source": []
  }
 ],
 "metadata": {
  "kernelspec": {
   "display_name": "Python 3.8.13 ('canebiere-uEvimNuA-py3.8')",
   "language": "python",
   "name": "python3"
  },
  "language_info": {
   "codemirror_mode": {
    "name": "ipython",
    "version": 3
   },
   "file_extension": ".py",
   "mimetype": "text/x-python",
   "name": "python",
   "nbconvert_exporter": "python",
   "pygments_lexer": "ipython3",
   "version": "3.8.13"
  },
  "title": "La Canebière Académie",
  "vscode": {
   "interpreter": {
    "hash": "e5814e86335ac535c2e455f528ce1787ed00bb0d4d798c5effae3e547f4503a7"
   }
  }
 },
 "nbformat": 4,
 "nbformat_minor": 5
}
