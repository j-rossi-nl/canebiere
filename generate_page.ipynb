{
 "cells": [
  {
   "cell_type": "code",
   "execution_count": null,
   "id": "81bc6ac6",
   "metadata": {},
   "outputs": [],
   "source": [
    "import pickle\n",
    "import string\n",
    "\n",
    "from babel.dates import format_date\n",
    "\n",
    "import altair as alt\n",
    "import numpy as np\n",
    "import pandas as pd\n",
    "import re\n",
    "import spacy\n",
    "\n",
    "from bs4 import BeautifulSoup\n",
    "from french_lefff_lemmatizer.french_lefff_lemmatizer import FrenchLefffLemmatizer\n",
    "from gensim.corpora.dictionary import Dictionary\n",
    "from gensim.models.ldamulticore import LdaMulticore"
   ]
  },
  {
   "cell_type": "code",
   "execution_count": null,
   "id": "008f425a",
   "metadata": {},
   "outputs": [],
   "source": [
    "pd.options.display.max_colwidth = 200\n",
    "DEFAULT_WIDTH = 800\n",
    "\n",
    "_ = alt.data_transformers.disable_max_rows()"
   ]
  },
  {
   "cell_type": "code",
   "execution_count": null,
   "id": "b60a6a7f",
   "metadata": {
    "pycharm": {
     "name": "#%%\n"
    }
   },
   "outputs": [],
   "source": [
    "with open(\"canebiere.pickle\", \"rb\") as src:\n",
    "    df: pd.DataFrame = pickle.load(src)"
   ]
  },
  {
   "cell_type": "markdown",
   "id": "59c81442",
   "metadata": {},
   "source": [
    "\n",
    "\n",
    "___\n"
   ]
  },
  {
   "cell_type": "markdown",
   "id": "b248e77b",
   "metadata": {},
   "source": [
    "# Blaah l'académicien\n"
   ]
  },
  {
   "cell_type": "code",
   "execution_count": null,
   "id": "089dc1b2",
   "metadata": {},
   "outputs": [],
   "source": [
    "df = df.set_index(\"Auteur\")\n",
    "blaah = df.loc[\"Blaah\"].copy().reset_index(drop=True)"
   ]
  },
  {
   "cell_type": "code",
   "execution_count": null,
   "id": "ddd78edb",
   "metadata": {},
   "outputs": [],
   "source": [
    "last = blaah.loc[blaah['Date'].argmax()]\n",
    "print(f\"Dernière Académie: {format_date(last['Date'], locale='fr_FR')} / {last['Titre']}\")"
   ]
  },
  {
   "cell_type": "markdown",
   "id": "85baa0f5",
   "metadata": {},
   "source": [
    "## Mots les plus utilisés"
   ]
  },
  {
   "cell_type": "code",
   "execution_count": null,
   "id": "5735cb85",
   "metadata": {
    "pycharm": {
     "name": "#%%\n"
    }
   },
   "outputs": [],
   "source": [
    "lemmatizer = FrenchLefffLemmatizer()\n",
    "\n",
    "def lemmatize(x: spacy.tokens.Token) -> str:\n",
    "    pos_2_leff = {\n",
    "        \"VERB\": \"v\",\n",
    "        \"NOUN\": \"n\",\n",
    "        \"ADJ\": \"a\"\n",
    "    }\n",
    "    leff_pos = pos_2_leff.get(x.pos_, \"n\")\n",
    "    return lemmatizer.lemmatize(word=x.lemma_, pos=leff_pos)\n",
    "\n",
    "corpus = [[lemmatize(t) for t in doc if not t.is_stop and not t.is_space and len(t) > 2] for doc in blaah[\"docs\"]]\n",
    "dic = Dictionary(documents=corpus)"
   ]
  },
  {
   "cell_type": "markdown",
   "id": "0959eaf7",
   "metadata": {},
   "source": [
    "## Mots utilisés dans le plus d'académies"
   ]
  },
  {
   "cell_type": "code",
   "execution_count": null,
   "id": "ca7d0b6d",
   "metadata": {},
   "outputs": [],
   "source": [
    "dfs = pd.DataFrame([{\"word\": dic[k], \"dfs\": v} for k, v in dic.dfs.items()])\n",
    "dfs['first_letter'] = dfs['word'].str[0].str.upper()\n",
    "\n",
    "dropdown_letter = alt.binding_select(options=list(string.ascii_uppercase), name=\"Première lettre: \")\n",
    "select_first_letter = alt.selection_single(name=\"firstletter\", fields=[\"first_letter\"], bind=dropdown_letter, init={\"first_letter\": 'A'})\n",
    "\n",
    "slider_docfreq = alt.binding_range(min=dfs['dfs'].min(), max=dfs['dfs'].max(), step=1, name=\"Nombre Minimum d'Académies: \")\n",
    "select_nb_acad = alt.selection_single(name=\"nbacads\", fields=[\"dfs\"], bind=slider_docfreq, init={\"dfs\": 20})\n",
    "\n",
    "alt.Chart(dfs.sort_values('word')).mark_bar().encode(\n",
    "    y=alt.Y(\n",
    "        \"dfs:Q\", \n",
    "        title=\"Nombre d'académies utilisant le mot\",\n",
    "        scale=alt.Scale(domain=[0, dfs['dfs'].max()])\n",
    "    ),\n",
    "    x=alt.X(\n",
    "        \"word:O\", \n",
    "        axis=alt.Axis(labelAngle=-45),\n",
    "        title=\"Mot\"\n",
    "    ),\n",
    "    color=alt.Color(\"dfs\", scale=alt.Scale(scheme=\"redyellowgreen\", domain=[0, dfs['dfs'].max()])),\n",
    "    tooltip=[alt.Tooltip(field=\"word\", title=\"Mot\"), alt.Tooltip(field=\"dfs\", title=\"# Académies\")]\n",
    ").add_selection(\n",
    "    select_first_letter,\n",
    "    select_nb_acad\n",
    ").transform_filter(\n",
    "    select_first_letter\n",
    ").transform_filter(\n",
    "    \"datum.dfs >= nbacads_dfs\"\n",
    ").properties(\n",
    "    height=400\n",
    ")"
   ]
  },
  {
   "cell_type": "markdown",
   "id": "ba5704de",
   "metadata": {},
   "source": [
    "## Mots les plus fréquents"
   ]
  },
  {
   "cell_type": "code",
   "execution_count": null,
   "id": "7be77613",
   "metadata": {
    "pycharm": {
     "name": "#%%\n"
    }
   },
   "outputs": [],
   "source": [
    "cfs = pd.DataFrame([{\"word\": dic[k], \"cfs\": v} for k, v in dic.cfs.items()])\n",
    "cfs['first_letter'] = cfs['word'].str[0].str.upper()\n",
    "\n",
    "dropdown_letter = alt.binding_select(options=list(string.ascii_uppercase), name=\"Première lettre: \")\n",
    "select_first_letter = alt.selection_single(name=\"firstletter\", fields=[\"first_letter\"], bind=dropdown_letter, init={\"first_letter\": 'A'})\n",
    "\n",
    "slider_docfreq = alt.binding_range(min=cfs['cfs'].min(), max=cfs['cfs'].max(), step=10, name=\"Nombre Minimum d'utilisations: \")\n",
    "select_nb_appears = alt.selection_single(name=\"nbappears\", fields=[\"cfs\"], bind=slider_docfreq, init={\"cfs\": 101})\n",
    "\n",
    "alt.Chart(cfs.sort_values('word')).mark_bar().encode(\n",
    "    y=alt.Y(\n",
    "        \"cfs:Q\", \n",
    "        title=\"Nombre d'utilisations du mot\",\n",
    "        scale=alt.Scale(domain=[0, cfs['cfs'].max()])\n",
    "    ),\n",
    "    x=alt.X(\n",
    "        \"word:O\", \n",
    "        axis=alt.Axis(labelAngle=-45),\n",
    "        title=\"Mot\"\n",
    "    ),\n",
    "    color=alt.Color(\"cfs\", scale=alt.Scale(scheme=\"redyellowgreen\", domain=[cfs['cfs'].min(), cfs['cfs'].max()])),\n",
    "    tooltip=[alt.Tooltip(field=\"word\", title=\"Mot\"), alt.Tooltip(field=\"cfs\", title=\"# Utilisations\")]\n",
    ").add_selection(\n",
    "    select_first_letter,\n",
    "    select_nb_appears\n",
    ").transform_filter(\n",
    "    select_first_letter\n",
    ").transform_filter(\n",
    "    \"datum.cfs >= nbappears_cfs\"\n",
    ").properties(\n",
    "    height=400\n",
    ")"
   ]
  },
  {
   "cell_type": "code",
   "execution_count": null,
   "id": "378ee446",
   "metadata": {},
   "outputs": [],
   "source": [
    "# Les Titres de Blaah"
   ]
  },
  {
   "cell_type": "code",
   "execution_count": null,
   "id": "375e7045",
   "metadata": {},
   "outputs": [],
   "source": [
    "# * Le modèle: \"xxx-OM (score), La Canebière académie VERBE COD...\"\n",
    "# * Lyon-OM (2-1), La Canebière académie ne tient pas la distance"
   ]
  },
  {
   "cell_type": "code",
   "execution_count": null,
   "id": "9bad2b95",
   "metadata": {
    "pycharm": {
     "name": "#%%\n"
    }
   },
   "outputs": [],
   "source": [
    "home = re.compile(r\"^\\s*OM\\s*[\\-–]\\s*(?P<adversaire>[\\w\\- ]+)\")\n",
    "away = re.compile(r\"^\\s*(?P<adversaire>[\\w\\- ]+)\\s*[\\-–]\\s*OM\")"
   ]
  },
  {
   "cell_type": "code",
   "execution_count": null,
   "id": "2136c1a5",
   "metadata": {},
   "outputs": [],
   "source": [
    "# ## Les exceptions à la règle\n",
    "\n",
    "# * Les académies de rétrospective\n",
    "# * On les sort du corpus\n",
    "# * Reste 318 académies"
   ]
  },
  {
   "cell_type": "code",
   "execution_count": null,
   "id": "a560e7b0",
   "metadata": {
    "pycharm": {
     "name": "#%%\n"
    }
   },
   "outputs": [],
   "source": [
    "test = [(home.match(txt) is not None) is not (away.match(txt) is not None) for txt in blaah[\"Titre\"]]"
   ]
  },
  {
   "cell_type": "code",
   "execution_count": null,
   "id": "6d3bf8ce",
   "metadata": {
    "pycharm": {
     "name": "#%%\n"
    }
   },
   "outputs": [],
   "source": [
    "blaah = blaah.iloc[[x[0] for x in filter(lambda t: t[1], enumerate(test))]].copy()"
   ]
  },
  {
   "cell_type": "code",
   "execution_count": null,
   "id": "dd4e94bd",
   "metadata": {
    "pycharm": {
     "name": "#%%\n"
    }
   },
   "outputs": [],
   "source": [
    "def extract_adversaire(x):\n",
    "    m = home.match(x)\n",
    "    if m is None:\n",
    "        m = away.match(x)\n",
    "\n",
    "    if m is None:\n",
    "        raise ValueError(f\"Can't process {x}\")\n",
    "    return m.group(\"adversaire\").strip()\n",
    "\n",
    "blaah[\"Domicile\"] = blaah[\"Titre\"].apply(lambda x: home.match(x) is not None)\n",
    "blaah[\"Adversaire\"] = blaah[\"Titre\"].apply(extract_adversaire)"
   ]
  },
  {
   "cell_type": "markdown",
   "id": "245e8df2",
   "metadata": {},
   "source": [
    "\n",
    "\n",
    "___\n"
   ]
  },
  {
   "cell_type": "markdown",
   "id": "c0e23301",
   "metadata": {},
   "source": [
    "# Scores (Extraits du Titre)"
   ]
  },
  {
   "cell_type": "code",
   "execution_count": null,
   "id": "6920f50e",
   "metadata": {
    "pycharm": {
     "name": "#%%\n"
    }
   },
   "outputs": [],
   "source": [
    "score = re.compile(r\"^\\s*\\((?P<receveuse>\\d+)\\s*-\\s*(?P<visiteuse>\\d+).*\\)\")"
   ]
  },
  {
   "cell_type": "code",
   "execution_count": null,
   "id": "263d042b",
   "metadata": {
    "pycharm": {
     "name": "#%%\n"
    }
   },
   "outputs": [],
   "source": [
    "def apres_equipes(x):\n",
    "    m = home.match(x)\n",
    "    if m is None:\n",
    "        m = away.match(x)\n",
    "    if m is None:\n",
    "        raise ValueError(f\"Can't process {x}\")\n",
    "\n",
    "    return x[m.end():]"
   ]
  },
  {
   "cell_type": "code",
   "execution_count": null,
   "id": "d2e002b5",
   "metadata": {
    "pycharm": {
     "name": "#%%\n"
    }
   },
   "outputs": [],
   "source": [
    "def extract_buts(x):\n",
    "    txt = apres_equipes(x)\n",
    "    m = score.match(txt)\n",
    "    if m is None:\n",
    "        return pd.Series([np.nan, np.nan], index=[\"Buts_Receveuse\", \"Buts_Visiteuse\"])\n",
    "    return pd.Series([int(m.group(\"receveuse\")), int(m.group(\"visiteuse\"))], index=[\"Buts_Receveuse\", \"Buts_Visiteuse\"])"
   ]
  },
  {
   "cell_type": "code",
   "execution_count": null,
   "id": "79324f98",
   "metadata": {
    "pycharm": {
     "name": "#%%\n"
    }
   },
   "outputs": [],
   "source": [
    "buts = blaah[\"Titre\"].apply(extract_buts)\n",
    "blaah[[\"Buts_R\", \"Buts_V\"]] = buts\n",
    "blaah[\"Buts_OM\"] = blaah.apply(lambda x: x[\"Buts_R\"] if x[\"Domicile\"] else x[\"Buts_V\"], axis=1)\n",
    "blaah[\"Buts_Adversaire\"] = blaah.apply(lambda x: x[\"Buts_V\"] if x[\"Domicile\"] else x[\"Buts_R\"], axis=1)\n",
    "blaah.drop(columns=[\"Buts_R\", \"Buts_V\"], inplace=True)\n",
    "blaah.dropna(subset=[\"Buts_OM\", \"Buts_Adversaire\"], inplace=True)\n",
    "for col in [\"Buts_OM\", \"Buts_Adversaire\"]:\n",
    "    blaah[col] = blaah[col].astype(int)"
   ]
  },
  {
   "cell_type": "code",
   "execution_count": null,
   "id": "435157f8",
   "metadata": {
    "pycharm": {
     "name": "#%%\n"
    }
   },
   "outputs": [],
   "source": [
    "def resultat(x):\n",
    "    om = x[\"Buts_OM\"]\n",
    "    adv = x[\"Buts_Adversaire\"]\n",
    "\n",
    "    if om > adv:\n",
    "        return \"Victoire\"\n",
    "    if om == adv:\n",
    "        return \"Nul\"\n",
    "    return \"Défaite\"\n",
    "\n",
    "blaah[\"Résultat\"] = blaah.apply(resultat, axis=1)"
   ]
  },
  {
   "cell_type": "code",
   "execution_count": null,
   "id": "ca23bde7",
   "metadata": {},
   "outputs": [],
   "source": [
    "blaah = pd.concat([blaah, pd.get_dummies(blaah[\"Résultat\"])], axis=1)"
   ]
  },
  {
   "cell_type": "markdown",
   "id": "afd0fd29",
   "metadata": {},
   "source": [
    "### Nombre de buts dans les matches"
   ]
  },
  {
   "cell_type": "code",
   "execution_count": null,
   "id": "60431c02",
   "metadata": {
    "pycharm": {
     "name": "#%%\n"
    }
   },
   "outputs": [],
   "source": [
    "blaah[\"Nb Buts\"] = blaah[\"Buts_OM\"] + blaah[\"Buts_Adversaire\"]\n"
   ]
  },
  {
   "cell_type": "code",
   "execution_count": null,
   "id": "31d4dca7",
   "metadata": {},
   "outputs": [],
   "source": [
    "alt.Chart(blaah[[\"Nb Buts\"]]).mark_bar().encode(\n",
    "    x=alt.X(\"Nb Buts:O\", axis=alt.Axis(labelAngle=0)),\n",
    "    y=\"count():Q\",\n",
    "    color=alt.Color(\"Nb Buts:O\", scale=alt.Scale(scheme=\"greens\")),\n",
    "    tooltip=[\"Nb Buts:O\", alt.Tooltip(\"count():Q\", title=\"Nb Matches\")]\n",
    ").properties(\n",
    "    width=DEFAULT_WIDTH\n",
    ")"
   ]
  },
  {
   "cell_type": "markdown",
   "id": "1ece2786",
   "metadata": {},
   "source": [
    "### Nombre de buts de l'OM"
   ]
  },
  {
   "cell_type": "code",
   "execution_count": null,
   "id": "e18de0a9",
   "metadata": {
    "pycharm": {
     "name": "#%%\n"
    }
   },
   "outputs": [],
   "source": [
    "alt.Chart(blaah[[\"Buts_OM\"]]).mark_bar().encode(\n",
    "    x=alt.X(\"Buts_OM:O\", title=\"Buts de l'OM\", axis=alt.Axis(labelAngle=0)),\n",
    "    y=\"count():Q\",\n",
    "    color=\"Buts_OM:O\",\n",
    "    tooltip=[alt.Tooltip(\"Buts_OM:O\", title=\"Buts de l'OM\"), alt.Tooltip(\"count():Q\", title=\"Nb Matches\")]\n",
    ").properties(\n",
    "    width=DEFAULT_WIDTH\n",
    ")"
   ]
  },
  {
   "cell_type": "markdown",
   "id": "42daa82a",
   "metadata": {},
   "source": [
    "### Nombre de buts de l'adversaire"
   ]
  },
  {
   "cell_type": "code",
   "execution_count": null,
   "id": "2586fb7e",
   "metadata": {
    "pycharm": {
     "name": "#%%\n"
    }
   },
   "outputs": [],
   "source": [
    "alt.Chart(blaah[[\"Buts_Adversaire\"]]).mark_bar().encode(\n",
    "    x=alt.X(\"Buts_Adversaire:O\", title=\"Buts de l'adversaire\", axis=alt.Axis(labelAngle=0)),\n",
    "    y=\"count():Q\",\n",
    "    color=alt.Color(\"Buts_Adversaire:O\", scale=alt.Scale(scheme=\"reds\")),\n",
    "    tooltip=[alt.Tooltip(\"Buts_Adversaire:O\", title=\"Buts de l'OM\"), alt.Tooltip(\"count():Q\", title=\"Nb Matches\")]\n",
    ").properties(\n",
    "    width=DEFAULT_WIDTH\n",
    ")"
   ]
  },
  {
   "cell_type": "markdown",
   "id": "0d3a05cd",
   "metadata": {},
   "source": [
    "### Différence de But par Adversaire"
   ]
  },
  {
   "cell_type": "code",
   "execution_count": null,
   "id": "a65050b3",
   "metadata": {
    "pycharm": {
     "name": "#%%\n"
    }
   },
   "outputs": [],
   "source": [
    "by_adv = blaah.groupby(\"Adversaire\").agg({\"Publications\": \"sum\"})"
   ]
  },
  {
   "cell_type": "code",
   "execution_count": null,
   "id": "21af9581",
   "metadata": {},
   "outputs": [],
   "source": [
    "# Il va falloir traiter les doublons...\n",
    "\n",
    "# * ASSE / Saint-Etienne / Saint-Étienne\n",
    "# * TFC / Toulouse\n",
    "# * MHSC / Montpellier\n",
    "# * Gazélec / Gazéléc\n",
    "# * Konyaspot / Konyasport\n",
    "# * Salzbourg / Salzburg\n",
    "# * Athletic / Bilbao"
   ]
  },
  {
   "cell_type": "code",
   "execution_count": null,
   "id": "f3b2907a",
   "metadata": {
    "pycharm": {
     "name": "#%%\n"
    }
   },
   "outputs": [],
   "source": [
    "normalize = [\n",
    "    {\"dups\": [\"ASSE\", \"Saint-Etienne\", \"Saint-Étienne\"], \"norm\": \"Saint-Étienne\"},\n",
    "    {\"dups\": [\"TFC\", \"Toulouse\"], \"norm\": \"Toulouse\"},\n",
    "    {\"dups\": [\"MHSC\", \"Montpellier\"], \"norm\": \"Montpellier\"},\n",
    "    {\"dups\": [\"Gazélec\", \"Gazéléc\"], \"norm\": \"Gazélec Ajaccio\"},\n",
    "    {\"dups\": [\"Konyaspor\", \"Konyasport\"], \"norm\": \"Konyaspor\"},\n",
    "    {\"dups\": [\"Salzbourg\", \"Salzburg\"], \"norm\": \"Salzburg\"},\n",
    "    {\"dups\": [\"Athletic\", \"Bilbao\"], \"norm\": \"Athletic Bilbao\"},\n",
    "    {\"dups\": [\"Atlético\"], \"norm\": \"Atletico Madrid\"}\n",
    "]"
   ]
  },
  {
   "cell_type": "code",
   "execution_count": null,
   "id": "cd06aa8e",
   "metadata": {
    "pycharm": {
     "name": "#%%\n"
    }
   },
   "outputs": [],
   "source": [
    "for dedup in normalize:\n",
    "    blaah.loc[blaah[\"Adversaire\"].isin(dedup[\"dups\"]), \"Adversaire\"] = dedup[\"norm\"]"
   ]
  },
  {
   "cell_type": "code",
   "execution_count": null,
   "id": "964c7a8c",
   "metadata": {
    "pycharm": {
     "name": "#%%\n"
    }
   },
   "outputs": [],
   "source": [
    "by_adv = blaah.groupby(\"Adversaire\").agg({\"Publications\": \"sum\", \"Buts_OM\": \"sum\", \"Buts_Adversaire\": \"sum\"})\n",
    "by_adv.reset_index(inplace=True)"
   ]
  },
  {
   "cell_type": "code",
   "execution_count": null,
   "id": "7a5428d4",
   "metadata": {
    "pycharm": {
     "name": "#%%\n"
    }
   },
   "outputs": [],
   "source": [
    "by_adv[\"Différence de Buts\"] = by_adv[\"Buts_OM\"] - by_adv[\"Buts_Adversaire\"]"
   ]
  },
  {
   "cell_type": "code",
   "execution_count": null,
   "id": "10693672",
   "metadata": {
    "pycharm": {
     "name": "#%%\n"
    }
   },
   "outputs": [],
   "source": [
    "slider = alt.binding_range(min=by_adv[\"Publications\"].min(), max=by_adv[\"Publications\"].max(), step=1, name=\"Nombre Minimum de Matchs: \")\n",
    "select_nb_matches = alt.selection_single(name=\"matches\", fields=[\"Publications\"], bind=slider, init={\"Publications\": 1})\n",
    "\n",
    "alt.Chart(by_adv).mark_bar().encode(\n",
    "    y=\"Différence de Buts\",\n",
    "    x=alt.X(\n",
    "        \"Adversaire:O\", \n",
    "        sort=alt.EncodingSortField(field=\"Différence de Buts\", order=\"ascending\"),\n",
    "        axis=alt.Axis(labelAngle=-45)\n",
    "    ),\n",
    "    color=alt.Color(\"Différence de Buts\", scale=alt.Scale(scheme=\"redyellowgreen\")),\n",
    "    tooltip=[\"Adversaire\", \"Différence de Buts\", alt.Tooltip(\"Publications\", title=\"Nb Matches\")]\n",
    ").add_selection(\n",
    "    select_nb_matches\n",
    ").transform_filter(\n",
    "    \"datum.Publications >= matches_Publications\"\n",
    "). properties(height=600,width=1200)"
   ]
  },
  {
   "cell_type": "markdown",
   "id": "704f9b0c",
   "metadata": {
    "pycharm": {
     "name": "#%%\n"
    }
   },
   "source": [
    "### Différentiel Victoire / Défaite par Adversaire"
   ]
  },
  {
   "cell_type": "code",
   "execution_count": null,
   "id": "cea8bb6b",
   "metadata": {},
   "outputs": [],
   "source": [
    "by_adv = blaah.groupby(\"Adversaire\").agg({\"Publications\": \"sum\", \"Victoire\": \"sum\", \"Défaite\": \"sum\", \"Nul\": \"sum\"})\n",
    "by_adv.reset_index(inplace=True)\n",
    "by_adv[\"Différence Victoire / Défaite\"] = by_adv[\"Victoire\"].astype(int) - by_adv[\"Défaite\"].astype(int)"
   ]
  },
  {
   "cell_type": "code",
   "execution_count": null,
   "id": "fbcc1f8e",
   "metadata": {},
   "outputs": [],
   "source": [
    "chart = alt.Chart(by_adv).mark_bar().encode(\n",
    "    y=\"Différence Victoire / Défaite\",\n",
    "    x=alt.X(\n",
    "        \"Adversaire:O\", \n",
    "        sort=alt.EncodingSortField(field=\"Différence Victoire / Défaite\"),\n",
    "        axis=alt.Axis(labelAngle=-45)\n",
    "    ),\n",
    "    color=alt.Color(\"Différence Victoire / Défaite\", scale=alt.Scale(domain=[-10, 10], scheme=\"redyellowgreen\")),\n",
    "    tooltip=[\"Adversaire\", \"Victoire\", \"Nul\", \"Défaite\", alt.Tooltip(\"Publications\", title=\"Nb Matches\")]\n",
    ").add_selection(\n",
    "    select_nb_matches\n",
    ").transform_filter(\n",
    "    \"datum.Publications >= matches_Publications\"\n",
    "). properties(height=600,width=1200)\n",
    "\n",
    "chart"
   ]
  },
  {
   "cell_type": "markdown",
   "id": "255afa39",
   "metadata": {},
   "source": [
    "\n",
    "\n",
    "___\n"
   ]
  },
  {
   "cell_type": "markdown",
   "id": "b90b3587",
   "metadata": {},
   "source": [
    "# Les Verbes dans les Titres"
   ]
  },
  {
   "cell_type": "code",
   "execution_count": null,
   "id": "efa086b4",
   "metadata": {},
   "outputs": [],
   "source": [
    "blaah[\"Titre_Part2\"] = blaah[\"Titre\"].str.lower().str.extract(r\"^.+(la\\s+canebière\\s+académiq?u?e[\\w\\s]+)\")"
   ]
  },
  {
   "cell_type": "code",
   "execution_count": null,
   "id": "cf40f736",
   "metadata": {},
   "outputs": [],
   "source": [
    "blaah = blaah.dropna(subset=[\"Titre_Part2\"])"
   ]
  },
  {
   "cell_type": "code",
   "execution_count": null,
   "id": "d78b45d0",
   "metadata": {},
   "outputs": [],
   "source": [
    "blaah[\"Titre_Part2\"] = blaah[\"Titre_Part2\"].str.replace(r\"la\\s+canebière\\s+académiq?u?e\", \"elle\", regex=True)"
   ]
  },
  {
   "cell_type": "code",
   "execution_count": null,
   "id": "595c436a",
   "metadata": {},
   "outputs": [],
   "source": [
    "fr = spacy.load('fr_core_news_sm')"
   ]
  },
  {
   "cell_type": "code",
   "execution_count": null,
   "id": "a5249068",
   "metadata": {},
   "outputs": [],
   "source": [
    "blaah[\"Titre_Part2_doc\"] = blaah[\"Titre_Part2\"].apply(fr)"
   ]
  },
  {
   "cell_type": "code",
   "execution_count": null,
   "id": "7ec6acb6",
   "metadata": {},
   "outputs": [],
   "source": [
    "def extract_verb(x):\n",
    "    v = [t.lemma_ for t in x if t.pos_ == \"VERB\"]\n",
    "    if len(v) == 0:\n",
    "        return np.nan\n",
    "    return lemmatizer.lemmatize(v[0], \"v\")\n",
    "\n",
    "blaah[\"Verbe\"] = blaah[\"Titre_Part2_doc\"].apply(extract_verb)"
   ]
  },
  {
   "cell_type": "code",
   "execution_count": null,
   "id": "c7174ecf",
   "metadata": {},
   "outputs": [],
   "source": [
    "def group_verb(x: str) -> int:\n",
    "    if x.endswith(\"er\"):\n",
    "        return 1\n",
    "\n",
    "    if x.endswith(\"oir\"):\n",
    "        return 3\n",
    "\n",
    "    if x.endswith(\"ir\"):\n",
    "        return 2\n",
    "\n",
    "    return 3\n",
    "\n",
    "verbes = pd.DataFrame(blaah[\"Verbe\"].dropna().unique(), columns=[\"Verbe\"])\n",
    "verbes[\"groupe\"] = verbes[\"Verbe\"].apply(group_verb)"
   ]
  },
  {
   "cell_type": "code",
   "execution_count": null,
   "id": "2044d061",
   "metadata": {},
   "outputs": [],
   "source": [
    "chart = alt.Chart(blaah[[\"Verbe\", \"Publications\"]].dropna().sort_values([\"Publications\", \"Verbe\"], ascending=[False, True])).mark_bar().encode(\n",
    "    x=alt.X(\n",
    "        field=\"Verbe\", \n",
    "        type=\"ordinal\", \n",
    "        sort=alt.EncodingSortField(field=\"Occurences\", order=\"descending\"),\n",
    "        axis=alt.Axis(labelAngle=-45, labelFontSize=14)\n",
    "    ),\n",
    "    y=\"Occurences:Q\",\n",
    "    color=alt.Color(\"Occurences:Q\", scale=alt.Scale(scheme=\"greenblue\")),\n",
    "    tooltip=[\"Verbe\", \"Occurences:Q\"]\n",
    ").transform_aggregate(\n",
    "    groupby=[\"Verbe\"],\n",
    "    Occurences=\"sum(Publications)\"\n",
    ").transform_filter(\n",
    "    alt.datum.Occurences >= 1\n",
    ")\n",
    "\n",
    "chart.configure_header(\n",
    "    titleColor='green',\n",
    "    titleFontSize=14,\n",
    "    labelColor='red',\n",
    "    labelFontSize=14\n",
    ")\n",
    "\n",
    "chart"
   ]
  },
  {
   "cell_type": "markdown",
   "id": "37572b5d",
   "metadata": {},
   "source": [
    "\n",
    "\n",
    "___\n"
   ]
  },
  {
   "cell_type": "markdown",
   "id": "75eed51f",
   "metadata": {},
   "source": [
    "# Les Notes (Extraites du texte de l'académie)"
   ]
  },
  {
   "cell_type": "code",
   "execution_count": null,
   "id": "ce9025af",
   "metadata": {},
   "outputs": [],
   "source": [
    "notes_re = re.compile(r\"^(?P<joueur>[\\w\\s]+) \\(.*,?\\w*(?P<note>\\d[\\+\\-]?)/5.*\")\n",
    "note_num = re.compile(r\"^(?P<num>\\d+)(?P<plus>[\\+\\-]?)$\")\n",
    "\n",
    "def extract_notes(row: pd.Series) -> pd.DataFrame:\n",
    "    adversaire = row[\"Adversaire\"]\n",
    "    date = row[\"Date\"]\n",
    "    soup = BeautifulSoup(row[\"html\"])\n",
    "    data = []\n",
    "    for st in soup.find_all([\"strong\", \"b\", \"i\", \"em\"]):\n",
    "        m = notes_re.match(st.text)\n",
    "        if m is None:\n",
    "            continue\n",
    "        \n",
    "        m_num = note_num.match(m.group(\"note\"))\n",
    "        if m_num is None:\n",
    "            continue\n",
    "        \n",
    "        plus_moins = m_num.group(\"plus\")\n",
    "        note_ = float(m_num.group(\"num\")) \n",
    "        if len(plus_moins) > 0:\n",
    "            note_ += 0.5 if plus_moins == \"+\" else -0.5\n",
    "        data.append({\"Adversaire\": adversaire, \"Date\": date, \"Joueur\": m.group(\"joueur\").replace(\"\\n\", \" \").strip().title(), \"Note_txt\": m.group(\"note\"), \"Note_num\": note_})\n",
    "    return pd.DataFrame(data)\n",
    "\n"
   ]
  },
  {
   "cell_type": "code",
   "execution_count": null,
   "id": "2f894c23",
   "metadata": {},
   "outputs": [],
   "source": [
    "notes = pd.concat(blaah.apply(extract_notes, axis=1).values)"
   ]
  },
  {
   "cell_type": "code",
   "execution_count": null,
   "id": "094c90c8",
   "metadata": {
    "pycharm": {
     "name": "#%%\n"
    }
   },
   "outputs": [],
   "source": [
    "normalize = [\n",
    "    {\"dups\": [\"Amavi\", \"Amavier\"], \"norm\": \"Amavi\"},\n",
    "    {\"dups\": [\"De Ceglie\", \"Détchéyé\"], \"norm\": \"De Ceglie\"},\n",
    "    {\"dups\": [\"Leya Iseka\", \"Iseka Leya\"], \"norm\": \"Leya Iseka\"},\n",
    "    {\"dups\": [\"Lopez\", \"Maxime Lopez\"], \"norm\": \"Lopez\"},\n",
    "    {\"dups\": [\"Doria\", \"Diego Armando Maradoria\"], \"norm\": \"Doria\"},\n",
    "    {\"dups\": [\"Njie\", \"Nvier\"], \"norm\": \"Njie\"},\n",
    "    {\"dups\": [\"Batshuayi\", \"Michybre\"], \"norm\": \"Batshuayi\"},\n",
    "]"
   ]
  },
  {
   "cell_type": "code",
   "execution_count": null,
   "id": "f53c1c9e",
   "metadata": {
    "pycharm": {
     "name": "#%%\n"
    }
   },
   "outputs": [],
   "source": [
    "for dedup in normalize:\n",
    "    notes.loc[notes[\"Joueur\"].isin(dedup[\"dups\"]), \"Joueur\"] = dedup[\"norm\"]"
   ]
  },
  {
   "cell_type": "code",
   "execution_count": null,
   "id": "3b133057",
   "metadata": {},
   "outputs": [],
   "source": [
    "notes.loc[(notes['Date'].dt.year <= 2020) & (notes['Joueur'] == 'Lopez'), 'Joueur'] = 'Maxime Lopez'\n",
    "notes.loc[(notes['Date'].dt.year > 2020) & (notes['Joueur'] == 'Lopez'), 'Joueur'] = 'Pau Lopez'"
   ]
  },
  {
   "cell_type": "code",
   "execution_count": null,
   "id": "1373defc",
   "metadata": {},
   "outputs": [],
   "source": [
    "stats = pd.DataFrame({\"Académie\": [\"Académie\", \"Académie\"], \"Notes\": [\"Récupérées\", \"Non Récupérées\"], \"Nombre\": [notes[\"Date\"].nunique(), blaah.shape[0] - notes[\"Date\"].nunique()]})\n",
    "\n",
    "alt.Chart(stats).mark_bar().encode(\n",
    "    x=alt.X(\"Académie:N\", axis=alt.Axis(labels=False)),\n",
    "    y=alt.Y(\"Nombre:Q\", stack=\"zero\"),\n",
    "    color=alt.Color(\"Notes:N\", legend=alt.Legend(title=\"Récupération Automatique\"), scale=alt.Scale(domain=[\"Récupérées\", \"Non Récupérées\"], range=[\"green\", \"red\"])),\n",
    "    tooltip=\"Nombre:Q\"\n",
    ")"
   ]
  },
  {
   "cell_type": "code",
   "execution_count": null,
   "id": "e02e8507",
   "metadata": {},
   "outputs": [],
   "source": [
    "by_joueur = notes.groupby(\"Joueur\").agg({\"Note_num\": [\"count\", \"mean\"]})\n",
    "by_joueur.columns = by_joueur.columns.droplevel()\n",
    "by_joueur.reset_index(inplace=True)"
   ]
  },
  {
   "cell_type": "code",
   "execution_count": null,
   "id": "33f708a7",
   "metadata": {},
   "outputs": [],
   "source": [
    "chart = alt.Chart(by_joueur).mark_bar().encode(\n",
    "    x=alt.X(\n",
    "        field=\"Joueur\", \n",
    "        type=\"ordinal\", \n",
    "        sort=alt.EncodingSortField(field=\"count\", order=\"descending\"),\n",
    "        axis=alt.Axis(labelAngle=-45, labelFontSize=14)\n",
    "    ),\n",
    "    y=alt.Y(\"count:Q\", title=\"Nombre de Notes\"),\n",
    "    color=alt.Color(\"count:Q\", scale=alt.Scale(scheme=\"greenblue\")),\n",
    "    tooltip=[\"Joueur\", alt.Tooltip(\"count:Q\", title=\"# Notes\")]\n",
    ")\n",
    "\n",
    "chart.configure_header(\n",
    "    titleColor='green',\n",
    "    titleFontSize=14,\n",
    "    labelColor='red',\n",
    "    labelFontSize=14\n",
    ")\n",
    "\n",
    "chart"
   ]
  },
  {
   "cell_type": "code",
   "execution_count": null,
   "id": "6439bb48",
   "metadata": {},
   "outputs": [],
   "source": [
    "slider = alt.binding_range(min=by_joueur[\"count\"].min(), max=by_joueur[\"count\"].max(), step=1, name=\"Nombre Minimum de Notes: \")\n",
    "select_nb_matches = alt.selection_single(name=\"matches\", fields=[\"count\"], bind=slider, init={\"count\": 1})\n",
    "\n",
    "chart = alt.Chart(by_joueur).mark_bar().encode(\n",
    "    x=alt.X(\n",
    "        field=\"Joueur\", \n",
    "        type=\"ordinal\", \n",
    "        sort=alt.EncodingSortField(field=\"mean\", order=\"descending\"),\n",
    "        axis=alt.Axis(labelAngle=-45, labelFontSize=14)\n",
    "    ),\n",
    "    y=alt.Y(\"mean:Q\", title=\"Moyenne\"),\n",
    "    color=alt.Color(\"mean:Q\", scale=alt.Scale(scheme=\"redyellowgreen\", domain=[0.0, 5.0])),\n",
    "    tooltip=[\"Joueur\", alt.Tooltip(\"count:Q\", title=\"# Notes\"), alt.Tooltip(\"mean:Q\", title=\"Moyenne\")]\n",
    ").add_selection(\n",
    "    select_nb_matches\n",
    ").transform_filter(\n",
    "    'datum.count >= matches_count'\n",
    ")\n",
    "\n",
    "chart.configure_header(\n",
    "    titleColor='green',\n",
    "    titleFontSize=14,\n",
    "    labelColor='red',\n",
    "    labelFontSize=14\n",
    ")\n",
    "\n",
    "chart"
   ]
  },
  {
   "cell_type": "code",
   "execution_count": null,
   "id": "7f17bd12",
   "metadata": {},
   "outputs": [],
   "source": [
    "nb_notes = notes[\"Joueur\"].value_counts()\n",
    "\n",
    "alt.Chart(notes[notes[\"Joueur\"].isin(nb_notes[nb_notes >= 10].index)][[\"Joueur\", \"Note_num\"]]).transform_density(\n",
    "    'Note_num',\n",
    "    as_=['Note', 'density'],\n",
    "    extent=[0, 5],\n",
    "    groupby=['Joueur']\n",
    ").mark_area(orient='horizontal').encode(\n",
    "    y='Note:Q',\n",
    "    color='Joueur:N',\n",
    "    x=alt.X(\n",
    "        'density:Q',\n",
    "        stack='center',\n",
    "        impute=None,\n",
    "        title=None,\n",
    "        axis=alt.Axis(labels=False, values=[0],grid=False, ticks=True),\n",
    "    ),\n",
    "    column=alt.Column(\n",
    "        'Joueur:N',\n",
    "        header=alt.Header(\n",
    "            titleOrient='bottom',\n",
    "            labelOrient='bottom',\n",
    "            labelPadding=0,\n",
    "            labelFontWeight=\"bold\",\n",
    "            labelBaseline=\"bottom\",\n",
    "            labelAngle=-45\n",
    "        ),\n",
    "    )\n",
    ").properties(\n",
    "    width=50\n",
    ").configure_facet(\n",
    "    spacing=0\n",
    ").configure_view(\n",
    "    stroke=None\n",
    ")"
   ]
  },
  {
   "cell_type": "markdown",
   "id": "1bf78c55",
   "metadata": {},
   "source": [
    "# Toutes les Notes, Tous les Joueurs, Tous les Matches"
   ]
  },
  {
   "cell_type": "code",
   "execution_count": null,
   "id": "55212837",
   "metadata": {},
   "outputs": [],
   "source": [
    "by_joueur_by_note = notes.groupby([\"Joueur\", \"Note_num\"]).agg({\"Date\": \"count\"})\n",
    "by_joueur_by_note = by_joueur_by_note.reset_index()\n",
    "by_joueur_by_note.columns = [\"Joueur\", \"Note\", \"count\"]\n",
    "\n"
   ]
  },
  {
   "cell_type": "code",
   "execution_count": null,
   "id": "a88cf973",
   "metadata": {},
   "outputs": [],
   "source": [
    "slider = alt.binding_range(min=by_joueur[\"count\"].min(), max=by_joueur[\"count\"].max(), step=1, name=\"Nombre Minimum de Notes: \")\n",
    "select_nb_matches = alt.selection_single(name=\"matches\", fields=[\"count\"], bind=slider, init={\"count\": 1})\n",
    "\n",
    "classement_moyenne = alt.Chart(notes).mark_bar().transform_aggregate(\n",
    "    count=\"count(Note_num)\",\n",
    "    moyenne=\"mean(Note_num)\",\n",
    "    groupby=[\"Joueur\"]\n",
    ").encode(\n",
    "    x=alt.X(\n",
    "        field=\"Joueur\", \n",
    "        type=\"ordinal\", \n",
    "        sort=\"-y\",\n",
    "        axis=alt.Axis(labelAngle=-45, labelFontSize=14)\n",
    "    ),\n",
    "    y=alt.Y(\"moyenne:Q\", title=\"Moyenne\"),\n",
    "    color=alt.Color(\"moyenne:Q\", scale=alt.Scale(scheme=\"redyellowgreen\", domain=[0.0, 5.0])),\n",
    "    tooltip=[\"Joueur\", alt.Tooltip(\"count():Q\", title=\"# Notes\"), alt.Tooltip(\"moyenne:Q\", title=\"Moyenne\")]\n",
    ").add_selection(\n",
    "    select_nb_matches\n",
    ").transform_filter(\n",
    "    'datum.count >= matches_count'\n",
    ")\n",
    "\n",
    "classement_moyenne.configure_header(\n",
    "    titleColor='green',\n",
    "    titleFontSize=14,\n",
    "    labelColor='red',\n",
    "    labelFontSize=14\n",
    ")\n",
    "\n",
    "classement_moyenne\n"
   ]
  },
  {
   "cell_type": "code",
   "execution_count": null,
   "id": "7c966f36",
   "metadata": {},
   "outputs": [],
   "source": [
    "notes_joueurs = alt.Chart(notes).mark_bar().encode(\n",
    "    x=alt.X(\n",
    "        'Joueur:N',\n",
    "        title=None,\n",
    "        axis=alt.Axis(labelAngle=-45),\n",
    "    ),\n",
    "    y=alt.Y(\n",
    "        'count(Note_num):Q', \n",
    "        title=\"\",\n",
    "        stack='normalize'\n",
    "    ),\n",
    "    order=alt.Order(\"Note_num:Q\", sort=\"ascending\"),\n",
    "    color=alt.Color('Note_num:Q', scale=alt.Scale(scheme=\"redyellowgreen\", domain=[0.0, 5.0])),\n",
    "    tooltip=[\"Joueur\", alt.Tooltip(\"Note_num:Q\", title=\"Note\"), alt.Tooltip(\"count(Note_num):Q\", title=\"Nombre de fois\")]\n",
    ")\n",
    "\n",
    "notes_joueurs"
   ]
  },
  {
   "cell_type": "code",
   "execution_count": null,
   "id": "2320c4c0",
   "metadata": {},
   "outputs": [],
   "source": [
    "notes[\"Match\"] = notes[\"Adversaire\"] + \" \" + notes[\"Date\"].dt.strftime(\"%d/%m/%Y\")\n",
    "notes[\"sort\"] = notes[\"Date\"].dt.strftime(\"%Y%m%d\")\n",
    "notes[\"count\"] = 1"
   ]
  },
  {
   "cell_type": "code",
   "execution_count": null,
   "id": "78710972",
   "metadata": {},
   "outputs": [],
   "source": [
    "alt.Chart(notes).mark_point(shape=\"square\", size=2).encode(\n",
    "    x=alt.X(\n",
    "        \"Match:O\",\n",
    "        sort=alt.EncodingSortField(\"sort\", order=\"ascending\"), \n",
    "        axis=alt.Axis(labels=False, ticks=False)\n",
    "        ),\n",
    "    y=alt.Y(\n",
    "        \"Joueur:N\",\n",
    "        axis=alt.Axis(labels=False, ticks=False)\n",
    "        ),\n",
    "    color=alt.Color(\"Note_num:Q\", scale=alt.Scale(scheme=\"redyellowgreen\")),\n",
    "    #size=alt.Size(\"count:Q\", ),\n",
    "    tooltip=[\"Joueur\", alt.Tooltip(\"Note_num:Q\", title=\"Note\"), \"Adversaire\", \"Date\"]\n",
    ").properties(\n",
    "    height=400,\n",
    "    width=1200\n",
    ")"
   ]
  },
  {
   "cell_type": "code",
   "execution_count": null,
   "id": "67980403",
   "metadata": {},
   "outputs": [],
   "source": [
    "width = 1200\n",
    "nb_matches = notes[\"Match\"].nunique()\n",
    "nb_joueurs = notes[\"Joueur\"].nunique()\n",
    "\n",
    "select_joueurs = alt.selection_multi(fields=[\"Joueur\"])\n",
    "\n",
    "joueurs = alt.Chart(pd.DataFrame({\"Joueur\": notes[\"Joueur\"].unique()})).mark_rect().encode(\n",
    "    x=alt.X(\n",
    "        \"Joueur:N\",\n",
    "        axis=alt.Axis(labelAngle=-45),\n",
    "    ),\n",
    "    color=alt.condition(select_joueurs, alt.Color('Joueur:N', legend=None), alt.value('lightgray'))\n",
    ").add_selection(\n",
    "    select_joueurs\n",
    ").properties(\n",
    "    width=width\n",
    ")\n",
    "\n",
    "heatmap = alt.Chart(notes).mark_point(shape=\"square\", size=2).encode(\n",
    "    x=alt.X(\n",
    "        \"Match:O\",\n",
    "        sort=alt.EncodingSortField(\"sort\", order=\"ascending\"), \n",
    "        axis=alt.Axis(labels=False, ticks=False)\n",
    "        ),\n",
    "    y=alt.Y(\n",
    "        \"Joueur:N\",\n",
    "        axis=alt.Axis(labels=False, ticks=False)\n",
    "        ),\n",
    "    color=alt.Color(\"Note_num:Q\", scale=alt.Scale(scheme=\"redyellowgreen\")),\n",
    "    #size=alt.Size(\"count:Q\", ),\n",
    "    tooltip=[\"Joueur\", alt.Tooltip(\"Note_num\", title=\"Note\"), \"Adversaire\", \"Date\"]\n",
    ").properties(\n",
    "    height=400,\n",
    "    width=width\n",
    ").transform_filter(\n",
    "    select_joueurs\n",
    ")\n",
    "\n",
    "joueurs & heatmap"
   ]
  },
  {
   "cell_type": "markdown",
   "id": "b220f86e",
   "metadata": {},
   "source": [
    "# Les notes de l'OM par match"
   ]
  },
  {
   "cell_type": "code",
   "execution_count": null,
   "id": "7d125862",
   "metadata": {},
   "outputs": [],
   "source": [
    "by_match_by_note = notes.groupby([\"Match\", \"Note_num\"]).agg({\"Joueur\": \"count\", \"sort\": \"max\"}).reset_index()"
   ]
  },
  {
   "cell_type": "code",
   "execution_count": null,
   "id": "49df4453",
   "metadata": {},
   "outputs": [],
   "source": [
    "alt.Chart(by_match_by_note).mark_circle().encode(\n",
    "    y=alt.Y(\n",
    "        'Match:N',\n",
    "        title=None,\n",
    "        axis=alt.Axis(ticks=False, grid=False, labelPadding=20),\n",
    "        sort=alt.EncodingSortField(\"sort\", op=\"max\")\n",
    "    ),\n",
    "    x=alt.X(\n",
    "        'Note_num:Q',\n",
    "        title='Note',\n",
    "        axis=alt.Axis(grid=False)\n",
    "    ),\n",
    "    color=alt.Color(\n",
    "        'Note_num:Q', \n",
    "        legend=None, \n",
    "        scale=alt.Scale(domain=[0.0,5.0], scheme=\"redyellowgreen\")\n",
    "    ),\n",
    "    size=alt.Size(\n",
    "        \"Joueur:Q\",\n",
    "        legend=None,\n",
    "        scale=alt.Scale(domain=[0.0, by_match_by_note[\"Joueur\"].max()], range=[0.0, 2000.0])\n",
    "    ),\n",
    "    tooltip=[\"Match:N\", alt.Tooltip(\"Note_num:Q\", title=\"Note\"), alt.Tooltip(\"Joueur:N\", title=\"# Joueurs\")]\n",
    ")"
   ]
  },
  {
   "cell_type": "code",
   "execution_count": null,
   "id": "b1cc0276",
   "metadata": {},
   "outputs": [],
   "source": [
    "alt.Chart(by_match_by_note).mark_bar().encode(\n",
    "    y=alt.Y(\n",
    "        'Match:N',\n",
    "        title=None,\n",
    "        axis=alt.Axis(ticks=False, grid=False, labelPadding=20),\n",
    "        sort=alt.EncodingSortField(\"sort\", op=\"max\")\n",
    "    ),\n",
    "    x=alt.X(\n",
    "        'Note_num:Q',\n",
    "        stack=\"normalize\",\n",
    "        axis=alt.Axis(grid=False)\n",
    "    ),\n",
    "    color=alt.Color(\n",
    "        'Note_num:Q', \n",
    "        legend=None, \n",
    "        scale=alt.Scale(domain=[0.0, 5.0], scheme=\"redyellowgreen\")\n",
    "    ),\n",
    "    tooltip=[\"Match:N\", alt.Tooltip(\"Note_num:Q\", title=\"Note\"), alt.Tooltip(\"Joueur:N\", title=\"# Joueurs\")]\n",
    ")"
   ]
  },
  {
   "cell_type": "code",
   "execution_count": null,
   "id": "f7e32ed5",
   "metadata": {},
   "outputs": [],
   "source": [
    "notes[\"sort_int\"] = notes[\"sort\"].astype(int)"
   ]
  },
  {
   "cell_type": "code",
   "execution_count": null,
   "id": "be007964",
   "metadata": {},
   "outputs": [],
   "source": [
    "alt.Chart(notes[[\"Match\", \"sort_int\", \"Note_num\"]].rename(columns={\"Note_num\": \"Note\"}).sort_values(\"sort_int\")).mark_boxplot(extent=\"min-max\").encode(\n",
    "    x=alt.X(\n",
    "        'Match:N',\n",
    "        title=None,\n",
    "        axis=alt.Axis(ticks=False, grid=False, labelAngle=-45),\n",
    "        sort=alt.EncodingSortField(order=None)\n",
    "    ),\n",
    "    y=alt.Y(\n",
    "        'Note:Q',\n",
    "        axis=alt.Axis(grid=False,)\n",
    "    ),\n",
    "    color=alt.Color(\"mean(Note):Q\", scale=alt.Scale(domain=[0.0, 5.0], scheme=\"redyellowgreen\")),\n",
    "    tooltip=[\"Match:N\"]\n",
    ")"
   ]
  },
  {
   "cell_type": "markdown",
   "id": "4610a603",
   "metadata": {},
   "source": [
    "# La Canebière Académie, des origines à aujourd'hui"
   ]
  },
  {
   "cell_type": "markdown",
   "id": "ba6ffefd",
   "metadata": {},
   "source": [
    "## Publications par auteur"
   ]
  },
  {
   "cell_type": "code",
   "execution_count": null,
   "id": "64ea8d83",
   "metadata": {},
   "outputs": [],
   "source": [
    "df = df.reset_index()"
   ]
  },
  {
   "cell_type": "code",
   "execution_count": null,
   "id": "358fa6b2",
   "metadata": {},
   "outputs": [],
   "source": [
    "alt.Chart(df[[\"Auteur\", \"Publications\"]]).mark_bar().encode(\n",
    "    x=alt.X(\n",
    "        \"Auteur:N\",\n",
    "        axis=alt.Axis(labelAngle=0)\n",
    "    ),\n",
    "    y=alt.Y(\n",
    "        \"count(Publications):Q\",\n",
    "        axis=alt.Axis(title=\"Académies\")\n",
    "    ),\n",
    "    color=\"Auteur:N\",\n",
    "    tooltip=[\"Auteur\", alt.Tooltip(\"count(Publications):Q\", title=\"Académies\")]\n",
    ").properties(\n",
    "    width=DEFAULT_WIDTH\n",
    ")"
   ]
  },
  {
   "cell_type": "code",
   "execution_count": null,
   "id": "b488ac47",
   "metadata": {},
   "outputs": [],
   "source": [
    "alt.Chart(df[[\"Auteur\", \"Publications\"]]).mark_arc(innerRadius=50, outerRadius=300).encode(\n",
    "    theta=alt.Theta(\n",
    "        \"count(Publications):Q\",\n",
    "        title=\"Académies\"\n",
    "    ),\n",
    "    color=\"Auteur:N\",\n",
    "    tooltip=[\"Auteur\", alt.Tooltip(\"count(Publications):Q\", title=\"Académies\")]\n",
    ").properties(\n",
    "    width=DEFAULT_WIDTH\n",
    ")"
   ]
  },
  {
   "cell_type": "markdown",
   "id": "3b82b9c0",
   "metadata": {},
   "source": [
    "## Publications par Année et Auteur"
   ]
  },
  {
   "cell_type": "code",
   "execution_count": null,
   "id": "33b7c13f",
   "metadata": {},
   "outputs": [],
   "source": [
    "raw_counts = alt.Chart(df[[\"Date\", \"Auteur\", \"Publications\"]]).mark_bar().encode(\n",
    "    x=alt.X(\"year(Date):O\", title=None, axis=alt.Axis(ticks=False, labels=False)),\n",
    "    y=alt.Y(\"count():Q\", title=\"Académies\"),\n",
    "    color=\"Auteur:N\",\n",
    "    tooltip=[alt.Tooltip(\"year(Date)\", title=\"Année\"), \"Auteur\", alt.Tooltip(\"count()\", title=\"Académies\")]\n",
    ").properties(\n",
    "    width=DEFAULT_WIDTH\n",
    ")\n",
    "\n",
    "pct_counts = alt.Chart(df[[\"Date\", \"Auteur\", \"Publications\"]]).mark_bar().encode(\n",
    "    x=alt.X(\"year(Date):O\", title=\"Année\", axis=alt.Axis(ticks=False)),\n",
    "    y=alt.Y(\"count():Q\", title=\"Académies\", stack=\"normalize\", axis=alt.Axis(format=\"%\")),\n",
    "    color=\"Auteur:N\",\n",
    "    tooltip=[alt.Tooltip(\"year(Date)\", title=\"Année\"), \"Auteur\", alt.Tooltip(\"count()\", title=\"Académies\")]\n",
    ").properties(\n",
    "    width=DEFAULT_WIDTH\n",
    ")\n",
    "\n",
    "raw_counts & pct_counts"
   ]
  },
  {
   "cell_type": "markdown",
   "id": "b162c096",
   "metadata": {},
   "source": [
    "## Longueur du texte par auteur"
   ]
  },
  {
   "cell_type": "code",
   "execution_count": null,
   "id": "28864919",
   "metadata": {},
   "outputs": [],
   "source": [
    "alt.Chart(df[[\"Auteur\", \"nb_tokens\"]]).transform_density(\n",
    "    'nb_tokens',\n",
    "    as_=['Nombre de Mots', 'density'],\n",
    "    extent=[0, 6000],\n",
    "    groupby=['Auteur']\n",
    ").mark_area(orient='horizontal').encode(\n",
    "    y='Nombre de Mots:Q',\n",
    "    color='Auteur:N',\n",
    "    x=alt.X(\n",
    "        'density:Q',\n",
    "        stack='center',\n",
    "        impute=None,\n",
    "        title=None,\n",
    "        axis=alt.Axis(labels=False, values=[0],grid=False, ticks=True),\n",
    "    ),\n",
    "    column=alt.Column(\n",
    "        'Auteur:N',\n",
    "        header=alt.Header(\n",
    "            titleOrient='bottom',\n",
    "            labelOrient='bottom',\n",
    "            labelPadding=0,\n",
    "            labelFontWeight=\"bold\",\n",
    "            labelBaseline=\"bottom\"\n",
    "        ),\n",
    "    )\n",
    ").properties(\n",
    "    width=200\n",
    ").configure_facet(\n",
    "    spacing=0\n",
    ").configure_view(\n",
    "    stroke=None\n",
    ")"
   ]
  }
 ],
 "metadata": {
  "kernelspec": {
   "display_name": "Python 3 (ipykernel)",
   "language": "python",
   "name": "python3"
  },
  "language_info": {
   "codemirror_mode": {
    "name": "ipython",
    "version": 3
   },
   "file_extension": ".py",
   "mimetype": "text/x-python",
   "name": "python",
   "nbconvert_exporter": "python",
   "pygments_lexer": "ipython3",
   "version": "3.8.10"
  },
  "title": "La Canebière Académie"
 },
 "nbformat": 4,
 "nbformat_minor": 5
}
