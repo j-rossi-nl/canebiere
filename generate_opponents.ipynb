{
 "cells": [
  {
   "cell_type": "code",
   "execution_count": 1,
   "metadata": {
    "pycharm": {
     "name": "#%%\n"
    }
   },
   "outputs": [],
   "source": [
    "import pickle\n",
    "import string\n",
    "\n",
    "from babel.dates import format_date\n",
    "\n",
    "import altair as alt\n",
    "import numpy as np\n",
    "import pandas as pd\n",
    "import re\n",
    "import spacy\n",
    "\n",
    "from bs4 import BeautifulSoup\n",
    "from french_lefff_lemmatizer.french_lefff_lemmatizer import FrenchLefffLemmatizer\n",
    "from gensim.corpora.dictionary import Dictionary\n",
    "\n",
    "from utils.data import notes, resultats"
   ]
  },
  {
   "cell_type": "code",
   "execution_count": 2,
   "metadata": {
    "pycharm": {
     "name": "#%%\n"
    }
   },
   "outputs": [],
   "source": [
    "pd.options.display.max_colwidth = 200\n",
    "DEFAULT_WIDTH = 800\n",
    "\n",
    "_ = alt.data_transformers.disable_max_rows()"
   ]
  },
  {
   "cell_type": "code",
   "execution_count": 4,
   "metadata": {
    "pycharm": {
     "name": "#%%\n"
    }
   },
   "outputs": [],
   "source": [
    "with open(\"canebiere.pickle\", \"rb\") as src:\n",
    "    df: pd.DataFrame = pickle.load(src)\n",
    "\n",
    "blaah = df[df['Auteur'] == 'Blaah'].reset_index()\n",
    "matchs = resultats(blaah)"
   ]
  },
  {
   "cell_type": "markdown",
   "metadata": {
    "pycharm": {
     "name": "#%% md\n"
    }
   },
   "source": [
    "# L'OM de Blaah"
   ]
  },
  {
   "cell_type": "markdown",
   "metadata": {
    "pycharm": {
     "name": "#%% md\n"
    }
   },
   "source": [
    "## Nombre de buts dans les matches"
   ]
  },
  {
   "cell_type": "code",
   "execution_count": 5,
   "metadata": {},
   "outputs": [],
   "source": [
    "matchs[\"Nb Buts\"] = matchs[\"Buts_R\"] + matchs[\"Buts_V\"]"
   ]
  },
  {
   "cell_type": "code",
   "execution_count": 30,
   "metadata": {
    "pycharm": {
     "name": "#%%\n"
    }
   },
   "outputs": [
    {
     "data": {
      "text/html": [
       "\n",
       "<div id=\"altair-viz-72fd8b08d1f2463d93f262f255ad6f90\"></div>\n",
       "<script type=\"text/javascript\">\n",
       "  var VEGA_DEBUG = (typeof VEGA_DEBUG == \"undefined\") ? {} : VEGA_DEBUG;\n",
       "  (function(spec, embedOpt){\n",
       "    let outputDiv = document.currentScript.previousElementSibling;\n",
       "    if (outputDiv.id !== \"altair-viz-72fd8b08d1f2463d93f262f255ad6f90\") {\n",
       "      outputDiv = document.getElementById(\"altair-viz-72fd8b08d1f2463d93f262f255ad6f90\");\n",
       "    }\n",
       "    const paths = {\n",
       "      \"vega\": \"https://cdn.jsdelivr.net/npm//vega@5?noext\",\n",
       "      \"vega-lib\": \"https://cdn.jsdelivr.net/npm//vega-lib?noext\",\n",
       "      \"vega-lite\": \"https://cdn.jsdelivr.net/npm//vega-lite@4.17.0?noext\",\n",
       "      \"vega-embed\": \"https://cdn.jsdelivr.net/npm//vega-embed@6?noext\",\n",
       "    };\n",
       "\n",
       "    function maybeLoadScript(lib, version) {\n",
       "      var key = `${lib.replace(\"-\", \"\")}_version`;\n",
       "      return (VEGA_DEBUG[key] == version) ?\n",
       "        Promise.resolve(paths[lib]) :\n",
       "        new Promise(function(resolve, reject) {\n",
       "          var s = document.createElement('script');\n",
       "          document.getElementsByTagName(\"head\")[0].appendChild(s);\n",
       "          s.async = true;\n",
       "          s.onload = () => {\n",
       "            VEGA_DEBUG[key] = version;\n",
       "            return resolve(paths[lib]);\n",
       "          };\n",
       "          s.onerror = () => reject(`Error loading script: ${paths[lib]}`);\n",
       "          s.src = paths[lib];\n",
       "        });\n",
       "    }\n",
       "\n",
       "    function showError(err) {\n",
       "      outputDiv.innerHTML = `<div class=\"error\" style=\"color:red;\">${err}</div>`;\n",
       "      throw err;\n",
       "    }\n",
       "\n",
       "    function displayChart(vegaEmbed) {\n",
       "      vegaEmbed(outputDiv, spec, embedOpt)\n",
       "        .catch(err => showError(`Javascript Error: ${err.message}<br>This usually means there's a typo in your chart specification. See the javascript console for the full traceback.`));\n",
       "    }\n",
       "\n",
       "    if(typeof define === \"function\" && define.amd) {\n",
       "      requirejs.config({paths});\n",
       "      require([\"vega-embed\"], displayChart, err => showError(`Error loading script: ${err.message}`));\n",
       "    } else {\n",
       "      maybeLoadScript(\"vega\", \"5\")\n",
       "        .then(() => maybeLoadScript(\"vega-lite\", \"4.17.0\"))\n",
       "        .then(() => maybeLoadScript(\"vega-embed\", \"6\"))\n",
       "        .catch(showError)\n",
       "        .then(() => displayChart(vegaEmbed));\n",
       "    }\n",
       "  })({\"config\": {\"view\": {\"continuousWidth\": 400, \"continuousHeight\": 300}}, \"data\": {\"name\": \"data-a70f692c772fa249ca22443d6af48c37\"}, \"mark\": \"bar\", \"encoding\": {\"color\": {\"field\": \"Nb Buts\", \"scale\": {\"scheme\": \"greens\"}, \"type\": \"ordinal\"}, \"tooltip\": [{\"field\": \"Nb Buts\", \"type\": \"ordinal\"}, {\"aggregate\": \"count\", \"title\": \"Nb Matches\", \"type\": \"quantitative\"}], \"x\": {\"axis\": {\"labelAngle\": 0}, \"field\": \"Nb Buts\", \"type\": \"ordinal\"}, \"y\": {\"aggregate\": \"count\", \"title\": \"Matchs\", \"type\": \"quantitative\"}}, \"width\": 800, \"$schema\": \"https://vega.github.io/schema/vega-lite/v4.17.0.json\", \"datasets\": {\"data-a70f692c772fa249ca22443d6af48c37\": [{\"Nb Buts\": 6}, {\"Nb Buts\": 3}, {\"Nb Buts\": 3}, {\"Nb Buts\": 5}, {\"Nb Buts\": 2}, {\"Nb Buts\": 3}, {\"Nb Buts\": 2}, {\"Nb Buts\": 1}, {\"Nb Buts\": 3}, {\"Nb Buts\": 3}, {\"Nb Buts\": 7}, {\"Nb Buts\": 5}, {\"Nb Buts\": 3}, {\"Nb Buts\": 4}, {\"Nb Buts\": 3}, {\"Nb Buts\": 1}, {\"Nb Buts\": 2}, {\"Nb Buts\": 2}, {\"Nb Buts\": 2}, {\"Nb Buts\": 3}, {\"Nb Buts\": 1}, {\"Nb Buts\": 2}, {\"Nb Buts\": 5}, {\"Nb Buts\": 2}, {\"Nb Buts\": 0}, {\"Nb Buts\": 6}, {\"Nb Buts\": 1}, {\"Nb Buts\": 1}, {\"Nb Buts\": 0}, {\"Nb Buts\": 0}, {\"Nb Buts\": 2}, {\"Nb Buts\": 1}, {\"Nb Buts\": 4}, {\"Nb Buts\": 0}, {\"Nb Buts\": 5}, {\"Nb Buts\": 0}, {\"Nb Buts\": 2}, {\"Nb Buts\": 5}, {\"Nb Buts\": 4}, {\"Nb Buts\": 2}, {\"Nb Buts\": 2}, {\"Nb Buts\": 2}, {\"Nb Buts\": 2}, {\"Nb Buts\": 5}, {\"Nb Buts\": 4}, {\"Nb Buts\": 5}, {\"Nb Buts\": 4}, {\"Nb Buts\": 2}, {\"Nb Buts\": 1}, {\"Nb Buts\": 5}, {\"Nb Buts\": 1}, {\"Nb Buts\": 4}, {\"Nb Buts\": 3}, {\"Nb Buts\": 2}, {\"Nb Buts\": 6}, {\"Nb Buts\": 5}, {\"Nb Buts\": 2}, {\"Nb Buts\": 2}, {\"Nb Buts\": 2}, {\"Nb Buts\": 3}, {\"Nb Buts\": 4}, {\"Nb Buts\": 4}, {\"Nb Buts\": 2}, {\"Nb Buts\": 2}, {\"Nb Buts\": 0}, {\"Nb Buts\": 4}, {\"Nb Buts\": 0}, {\"Nb Buts\": 3}, {\"Nb Buts\": 3}, {\"Nb Buts\": 1}, {\"Nb Buts\": 3}, {\"Nb Buts\": 3}, {\"Nb Buts\": 3}, {\"Nb Buts\": 2}, {\"Nb Buts\": 3}, {\"Nb Buts\": 1}, {\"Nb Buts\": 2}, {\"Nb Buts\": 4}, {\"Nb Buts\": 3}, {\"Nb Buts\": 2}, {\"Nb Buts\": 4}, {\"Nb Buts\": 1}, {\"Nb Buts\": 1}, {\"Nb Buts\": 3}, {\"Nb Buts\": 3}, {\"Nb Buts\": 1}, {\"Nb Buts\": 2}, {\"Nb Buts\": 2}, {\"Nb Buts\": 2}, {\"Nb Buts\": 2}, {\"Nb Buts\": 5}, {\"Nb Buts\": 4}, {\"Nb Buts\": 3}, {\"Nb Buts\": 5}, {\"Nb Buts\": 2}, {\"Nb Buts\": 1}, {\"Nb Buts\": 1}, {\"Nb Buts\": 3}, {\"Nb Buts\": 4}, {\"Nb Buts\": 1}, {\"Nb Buts\": 3}, {\"Nb Buts\": 0}, {\"Nb Buts\": 4}, {\"Nb Buts\": 0}, {\"Nb Buts\": 2}, {\"Nb Buts\": 4}, {\"Nb Buts\": 2}, {\"Nb Buts\": 4}, {\"Nb Buts\": 2}, {\"Nb Buts\": 3}, {\"Nb Buts\": 3}, {\"Nb Buts\": 3}, {\"Nb Buts\": 2}, {\"Nb Buts\": 3}, {\"Nb Buts\": 0}, {\"Nb Buts\": 2}, {\"Nb Buts\": 4}, {\"Nb Buts\": 2}, {\"Nb Buts\": 4}, {\"Nb Buts\": 0}, {\"Nb Buts\": 3}, {\"Nb Buts\": 1}, {\"Nb Buts\": 7}, {\"Nb Buts\": 2}, {\"Nb Buts\": 2}, {\"Nb Buts\": 3}, {\"Nb Buts\": 7}, {\"Nb Buts\": 1}, {\"Nb Buts\": 2}, {\"Nb Buts\": 4}, {\"Nb Buts\": 2}, {\"Nb Buts\": 3}, {\"Nb Buts\": 4}, {\"Nb Buts\": 3}, {\"Nb Buts\": 2}, {\"Nb Buts\": 2}, {\"Nb Buts\": 2}, {\"Nb Buts\": 1}, {\"Nb Buts\": 4}, {\"Nb Buts\": 1}, {\"Nb Buts\": 3}, {\"Nb Buts\": 3}, {\"Nb Buts\": 1}, {\"Nb Buts\": 3}, {\"Nb Buts\": 2}, {\"Nb Buts\": 2}, {\"Nb Buts\": 2}, {\"Nb Buts\": 2}, {\"Nb Buts\": 3}, {\"Nb Buts\": 4}, {\"Nb Buts\": 4}, {\"Nb Buts\": 0}, {\"Nb Buts\": 5}, {\"Nb Buts\": 4}, {\"Nb Buts\": 4}, {\"Nb Buts\": 2}, {\"Nb Buts\": 3}, {\"Nb Buts\": 3}, {\"Nb Buts\": 2}, {\"Nb Buts\": 5}, {\"Nb Buts\": 3}, {\"Nb Buts\": 4}, {\"Nb Buts\": 2}, {\"Nb Buts\": 1}, {\"Nb Buts\": 4}, {\"Nb Buts\": 5}, {\"Nb Buts\": 4}, {\"Nb Buts\": 3}, {\"Nb Buts\": 6}, {\"Nb Buts\": 3}, {\"Nb Buts\": 3}, {\"Nb Buts\": 4}, {\"Nb Buts\": 4}, {\"Nb Buts\": 2}, {\"Nb Buts\": 2}, {\"Nb Buts\": 3}, {\"Nb Buts\": 3}, {\"Nb Buts\": 6}, {\"Nb Buts\": 1}, {\"Nb Buts\": 0}, {\"Nb Buts\": 7}, {\"Nb Buts\": 5}, {\"Nb Buts\": 6}, {\"Nb Buts\": 4}, {\"Nb Buts\": 3}, {\"Nb Buts\": 3}, {\"Nb Buts\": 5}, {\"Nb Buts\": 4}, {\"Nb Buts\": 1}, {\"Nb Buts\": 1}, {\"Nb Buts\": 3}, {\"Nb Buts\": 3}, {\"Nb Buts\": 2}, {\"Nb Buts\": 4}, {\"Nb Buts\": 9}, {\"Nb Buts\": 9}, {\"Nb Buts\": 4}, {\"Nb Buts\": 3}, {\"Nb Buts\": 1}, {\"Nb Buts\": 3}, {\"Nb Buts\": 2}, {\"Nb Buts\": 2}, {\"Nb Buts\": 2}, {\"Nb Buts\": 0}, {\"Nb Buts\": 3}, {\"Nb Buts\": 4}, {\"Nb Buts\": 2}, {\"Nb Buts\": 4}, {\"Nb Buts\": 2}, {\"Nb Buts\": 2}, {\"Nb Buts\": 1}, {\"Nb Buts\": 3}, {\"Nb Buts\": 2}, {\"Nb Buts\": 3}, {\"Nb Buts\": 4}, {\"Nb Buts\": 1}, {\"Nb Buts\": 1}, {\"Nb Buts\": 5}, {\"Nb Buts\": 2}, {\"Nb Buts\": 2}, {\"Nb Buts\": 1}, {\"Nb Buts\": 6}, {\"Nb Buts\": 6}, {\"Nb Buts\": 3}, {\"Nb Buts\": 7}, {\"Nb Buts\": 4}, {\"Nb Buts\": 1}, {\"Nb Buts\": 0}, {\"Nb Buts\": 3}, {\"Nb Buts\": 1}, {\"Nb Buts\": 2}, {\"Nb Buts\": 2}, {\"Nb Buts\": 1}, {\"Nb Buts\": 6}, {\"Nb Buts\": 4}, {\"Nb Buts\": 0}, {\"Nb Buts\": 6}, {\"Nb Buts\": 3}, {\"Nb Buts\": 2}, {\"Nb Buts\": 5}, {\"Nb Buts\": 3}, {\"Nb Buts\": 0}, {\"Nb Buts\": 2}, {\"Nb Buts\": 0}, {\"Nb Buts\": 2}, {\"Nb Buts\": 5}, {\"Nb Buts\": 2}, {\"Nb Buts\": 6}, {\"Nb Buts\": 7}, {\"Nb Buts\": 5}, {\"Nb Buts\": 4}, {\"Nb Buts\": 6}, {\"Nb Buts\": 3}, {\"Nb Buts\": 1}, {\"Nb Buts\": 3}, {\"Nb Buts\": 2}, {\"Nb Buts\": 2}, {\"Nb Buts\": 3}, {\"Nb Buts\": 3}, {\"Nb Buts\": 4}, {\"Nb Buts\": 1}, {\"Nb Buts\": 4}, {\"Nb Buts\": 0}, {\"Nb Buts\": 3}, {\"Nb Buts\": 2}, {\"Nb Buts\": 1}, {\"Nb Buts\": 0}, {\"Nb Buts\": 3}, {\"Nb Buts\": 0}, {\"Nb Buts\": 5}, {\"Nb Buts\": 0}, {\"Nb Buts\": 5}, {\"Nb Buts\": 3}, {\"Nb Buts\": 0}, {\"Nb Buts\": 3}, {\"Nb Buts\": 2}, {\"Nb Buts\": 2}, {\"Nb Buts\": 1}, {\"Nb Buts\": 1}, {\"Nb Buts\": 2}, {\"Nb Buts\": 6}, {\"Nb Buts\": 7}, {\"Nb Buts\": 3}, {\"Nb Buts\": 0}, {\"Nb Buts\": 3}, {\"Nb Buts\": 1}, {\"Nb Buts\": 2}, {\"Nb Buts\": 1}, {\"Nb Buts\": 2}, {\"Nb Buts\": 2}, {\"Nb Buts\": 2}, {\"Nb Buts\": 2}, {\"Nb Buts\": 4}, {\"Nb Buts\": 2}, {\"Nb Buts\": 2}, {\"Nb Buts\": 2}, {\"Nb Buts\": 5}, {\"Nb Buts\": 2}, {\"Nb Buts\": 0}, {\"Nb Buts\": 0}, {\"Nb Buts\": 3}, {\"Nb Buts\": 6}, {\"Nb Buts\": 1}, {\"Nb Buts\": 4}, {\"Nb Buts\": 6}, {\"Nb Buts\": 2}, {\"Nb Buts\": 1}, {\"Nb Buts\": 1}, {\"Nb Buts\": 1}, {\"Nb Buts\": 2}, {\"Nb Buts\": 3}, {\"Nb Buts\": 1}, {\"Nb Buts\": 3}, {\"Nb Buts\": 2}, {\"Nb Buts\": 5}, {\"Nb Buts\": 3}, {\"Nb Buts\": 5}, {\"Nb Buts\": 3}, {\"Nb Buts\": 2}, {\"Nb Buts\": 2}, {\"Nb Buts\": 3}, {\"Nb Buts\": 1}, {\"Nb Buts\": 1}, {\"Nb Buts\": 6}, {\"Nb Buts\": 2}, {\"Nb Buts\": 1}, {\"Nb Buts\": 2}, {\"Nb Buts\": 1}, {\"Nb Buts\": 3}, {\"Nb Buts\": 5}, {\"Nb Buts\": 3}, {\"Nb Buts\": 1}, {\"Nb Buts\": 5}, {\"Nb Buts\": 3}, {\"Nb Buts\": 0}, {\"Nb Buts\": 3}, {\"Nb Buts\": 2}]}}, {\"mode\": \"vega-lite\"});\n",
       "</script>"
      ],
      "text/plain": [
       "alt.Chart(...)"
      ]
     },
     "execution_count": 30,
     "metadata": {},
     "output_type": "execute_result"
    }
   ],
   "source": [
    "alt.Chart(matchs[[\"Nb Buts\"]]).mark_bar().encode(\n",
    "    x=alt.X(\"Nb Buts:O\", axis=alt.Axis(labelAngle=0)),\n",
    "    y=alt.Y(\"count():Q\", title=\"Matchs\"),\n",
    "    color=alt.Color(\"Nb Buts:O\", scale=alt.Scale(scheme=\"greens\")),\n",
    "    tooltip=[\"Nb Buts:O\", alt.Tooltip(\"count():Q\", title=\"Nb Matches\")]\n",
    ").properties(\n",
    "    width=DEFAULT_WIDTH\n",
    ")"
   ]
  },
  {
   "cell_type": "markdown",
   "metadata": {
    "pycharm": {
     "name": "#%% md\n"
    }
   },
   "source": [
    "## Nombre de buts de l'OM"
   ]
  },
  {
   "cell_type": "code",
   "execution_count": 28,
   "metadata": {
    "pycharm": {
     "name": "#%%\n"
    }
   },
   "outputs": [
    {
     "data": {
      "text/html": [
       "\n",
       "<div id=\"altair-viz-f1bd7bbb81f74014a2b729b282777d01\"></div>\n",
       "<script type=\"text/javascript\">\n",
       "  var VEGA_DEBUG = (typeof VEGA_DEBUG == \"undefined\") ? {} : VEGA_DEBUG;\n",
       "  (function(spec, embedOpt){\n",
       "    let outputDiv = document.currentScript.previousElementSibling;\n",
       "    if (outputDiv.id !== \"altair-viz-f1bd7bbb81f74014a2b729b282777d01\") {\n",
       "      outputDiv = document.getElementById(\"altair-viz-f1bd7bbb81f74014a2b729b282777d01\");\n",
       "    }\n",
       "    const paths = {\n",
       "      \"vega\": \"https://cdn.jsdelivr.net/npm//vega@5?noext\",\n",
       "      \"vega-lib\": \"https://cdn.jsdelivr.net/npm//vega-lib?noext\",\n",
       "      \"vega-lite\": \"https://cdn.jsdelivr.net/npm//vega-lite@4.17.0?noext\",\n",
       "      \"vega-embed\": \"https://cdn.jsdelivr.net/npm//vega-embed@6?noext\",\n",
       "    };\n",
       "\n",
       "    function maybeLoadScript(lib, version) {\n",
       "      var key = `${lib.replace(\"-\", \"\")}_version`;\n",
       "      return (VEGA_DEBUG[key] == version) ?\n",
       "        Promise.resolve(paths[lib]) :\n",
       "        new Promise(function(resolve, reject) {\n",
       "          var s = document.createElement('script');\n",
       "          document.getElementsByTagName(\"head\")[0].appendChild(s);\n",
       "          s.async = true;\n",
       "          s.onload = () => {\n",
       "            VEGA_DEBUG[key] = version;\n",
       "            return resolve(paths[lib]);\n",
       "          };\n",
       "          s.onerror = () => reject(`Error loading script: ${paths[lib]}`);\n",
       "          s.src = paths[lib];\n",
       "        });\n",
       "    }\n",
       "\n",
       "    function showError(err) {\n",
       "      outputDiv.innerHTML = `<div class=\"error\" style=\"color:red;\">${err}</div>`;\n",
       "      throw err;\n",
       "    }\n",
       "\n",
       "    function displayChart(vegaEmbed) {\n",
       "      vegaEmbed(outputDiv, spec, embedOpt)\n",
       "        .catch(err => showError(`Javascript Error: ${err.message}<br>This usually means there's a typo in your chart specification. See the javascript console for the full traceback.`));\n",
       "    }\n",
       "\n",
       "    if(typeof define === \"function\" && define.amd) {\n",
       "      requirejs.config({paths});\n",
       "      require([\"vega-embed\"], displayChart, err => showError(`Error loading script: ${err.message}`));\n",
       "    } else {\n",
       "      maybeLoadScript(\"vega\", \"5\")\n",
       "        .then(() => maybeLoadScript(\"vega-lite\", \"4.17.0\"))\n",
       "        .then(() => maybeLoadScript(\"vega-embed\", \"6\"))\n",
       "        .catch(showError)\n",
       "        .then(() => displayChart(vegaEmbed));\n",
       "    }\n",
       "  })({\"config\": {\"view\": {\"continuousWidth\": 400, \"continuousHeight\": 300}}, \"data\": {\"name\": \"data-1419ea1933bd7e138815eee0a53d384b\"}, \"mark\": \"bar\", \"encoding\": {\"color\": {\"field\": \"Buts_OM\", \"type\": \"ordinal\"}, \"tooltip\": [{\"field\": \"Buts_OM\", \"title\": \"Buts de l'OM\", \"type\": \"ordinal\"}, {\"aggregate\": \"count\", \"title\": \"Nb Matches\", \"type\": \"quantitative\"}], \"x\": {\"axis\": {\"labelAngle\": 0}, \"field\": \"Buts_OM\", \"title\": \"Buts de l'OM\", \"type\": \"ordinal\"}, \"y\": {\"aggregate\": \"count\", \"title\": \"Matchs\", \"type\": \"quantitative\"}}, \"width\": 800, \"$schema\": \"https://vega.github.io/schema/vega-lite/v4.17.0.json\", \"datasets\": {\"data-1419ea1933bd7e138815eee0a53d384b\": [{\"Buts_OM\": 4}, {\"Buts_OM\": 2}, {\"Buts_OM\": 2}, {\"Buts_OM\": 4}, {\"Buts_OM\": 0}, {\"Buts_OM\": 3}, {\"Buts_OM\": 1}, {\"Buts_OM\": 0}, {\"Buts_OM\": 2}, {\"Buts_OM\": 1}, {\"Buts_OM\": 5}, {\"Buts_OM\": 1}, {\"Buts_OM\": 2}, {\"Buts_OM\": 3}, {\"Buts_OM\": 3}, {\"Buts_OM\": 1}, {\"Buts_OM\": 1}, {\"Buts_OM\": 2}, {\"Buts_OM\": 1}, {\"Buts_OM\": 1}, {\"Buts_OM\": 1}, {\"Buts_OM\": 2}, {\"Buts_OM\": 4}, {\"Buts_OM\": 1}, {\"Buts_OM\": 0}, {\"Buts_OM\": 2}, {\"Buts_OM\": 1}, {\"Buts_OM\": 1}, {\"Buts_OM\": 0}, {\"Buts_OM\": 0}, {\"Buts_OM\": 1}, {\"Buts_OM\": 1}, {\"Buts_OM\": 2}, {\"Buts_OM\": 0}, {\"Buts_OM\": 2}, {\"Buts_OM\": 0}, {\"Buts_OM\": 0}, {\"Buts_OM\": 4}, {\"Buts_OM\": 3}, {\"Buts_OM\": 2}, {\"Buts_OM\": 1}, {\"Buts_OM\": 2}, {\"Buts_OM\": 1}, {\"Buts_OM\": 3}, {\"Buts_OM\": 2}, {\"Buts_OM\": 3}, {\"Buts_OM\": 3}, {\"Buts_OM\": 1}, {\"Buts_OM\": 0}, {\"Buts_OM\": 3}, {\"Buts_OM\": 1}, {\"Buts_OM\": 3}, {\"Buts_OM\": 0}, {\"Buts_OM\": 2}, {\"Buts_OM\": 3}, {\"Buts_OM\": 3}, {\"Buts_OM\": 1}, {\"Buts_OM\": 1}, {\"Buts_OM\": 0}, {\"Buts_OM\": 1}, {\"Buts_OM\": 1}, {\"Buts_OM\": 2}, {\"Buts_OM\": 0}, {\"Buts_OM\": 2}, {\"Buts_OM\": 0}, {\"Buts_OM\": 3}, {\"Buts_OM\": 0}, {\"Buts_OM\": 1}, {\"Buts_OM\": 1}, {\"Buts_OM\": 0}, {\"Buts_OM\": 0}, {\"Buts_OM\": 2}, {\"Buts_OM\": 1}, {\"Buts_OM\": 1}, {\"Buts_OM\": 1}, {\"Buts_OM\": 1}, {\"Buts_OM\": 0}, {\"Buts_OM\": 3}, {\"Buts_OM\": 2}, {\"Buts_OM\": 2}, {\"Buts_OM\": 3}, {\"Buts_OM\": 0}, {\"Buts_OM\": 1}, {\"Buts_OM\": 0}, {\"Buts_OM\": 0}, {\"Buts_OM\": 1}, {\"Buts_OM\": 0}, {\"Buts_OM\": 1}, {\"Buts_OM\": 1}, {\"Buts_OM\": 1}, {\"Buts_OM\": 3}, {\"Buts_OM\": 2}, {\"Buts_OM\": 2}, {\"Buts_OM\": 3}, {\"Buts_OM\": 2}, {\"Buts_OM\": 1}, {\"Buts_OM\": 0}, {\"Buts_OM\": 2}, {\"Buts_OM\": 1}, {\"Buts_OM\": 1}, {\"Buts_OM\": 3}, {\"Buts_OM\": 0}, {\"Buts_OM\": 3}, {\"Buts_OM\": 0}, {\"Buts_OM\": 2}, {\"Buts_OM\": 3}, {\"Buts_OM\": 1}, {\"Buts_OM\": 3}, {\"Buts_OM\": 1}, {\"Buts_OM\": 1}, {\"Buts_OM\": 2}, {\"Buts_OM\": 2}, {\"Buts_OM\": 2}, {\"Buts_OM\": 2}, {\"Buts_OM\": 0}, {\"Buts_OM\": 1}, {\"Buts_OM\": 1}, {\"Buts_OM\": 2}, {\"Buts_OM\": 0}, {\"Buts_OM\": 0}, {\"Buts_OM\": 2}, {\"Buts_OM\": 1}, {\"Buts_OM\": 4}, {\"Buts_OM\": 1}, {\"Buts_OM\": 1}, {\"Buts_OM\": 0}, {\"Buts_OM\": 5}, {\"Buts_OM\": 1}, {\"Buts_OM\": 0}, {\"Buts_OM\": 2}, {\"Buts_OM\": 0}, {\"Buts_OM\": 2}, {\"Buts_OM\": 3}, {\"Buts_OM\": 1}, {\"Buts_OM\": 2}, {\"Buts_OM\": 1}, {\"Buts_OM\": 2}, {\"Buts_OM\": 1}, {\"Buts_OM\": 1}, {\"Buts_OM\": 1}, {\"Buts_OM\": 1}, {\"Buts_OM\": 1}, {\"Buts_OM\": 1}, {\"Buts_OM\": 2}, {\"Buts_OM\": 1}, {\"Buts_OM\": 1}, {\"Buts_OM\": 0}, {\"Buts_OM\": 1}, {\"Buts_OM\": 1}, {\"Buts_OM\": 3}, {\"Buts_OM\": 0}, {\"Buts_OM\": 0}, {\"Buts_OM\": 2}, {\"Buts_OM\": 1}, {\"Buts_OM\": 1}, {\"Buts_OM\": 0}, {\"Buts_OM\": 0}, {\"Buts_OM\": 1}, {\"Buts_OM\": 2}, {\"Buts_OM\": 3}, {\"Buts_OM\": 0}, {\"Buts_OM\": 2}, {\"Buts_OM\": 2}, {\"Buts_OM\": 1}, {\"Buts_OM\": 2}, {\"Buts_OM\": 3}, {\"Buts_OM\": 4}, {\"Buts_OM\": 1}, {\"Buts_OM\": 2}, {\"Buts_OM\": 0}, {\"Buts_OM\": 2}, {\"Buts_OM\": 4}, {\"Buts_OM\": 1}, {\"Buts_OM\": 2}, {\"Buts_OM\": 1}, {\"Buts_OM\": 1}, {\"Buts_OM\": 2}, {\"Buts_OM\": 3}, {\"Buts_OM\": 0}, {\"Buts_OM\": 0}, {\"Buts_OM\": 5}, {\"Buts_OM\": 3}, {\"Buts_OM\": 5}, {\"Buts_OM\": 3}, {\"Buts_OM\": 2}, {\"Buts_OM\": 2}, {\"Buts_OM\": 2}, {\"Buts_OM\": 3}, {\"Buts_OM\": 1}, {\"Buts_OM\": 0}, {\"Buts_OM\": 0}, {\"Buts_OM\": 0}, {\"Buts_OM\": 1}, {\"Buts_OM\": 2}, {\"Buts_OM\": 6}, {\"Buts_OM\": 9}, {\"Buts_OM\": 2}, {\"Buts_OM\": 3}, {\"Buts_OM\": 1}, {\"Buts_OM\": 3}, {\"Buts_OM\": 2}, {\"Buts_OM\": 2}, {\"Buts_OM\": 2}, {\"Buts_OM\": 0}, {\"Buts_OM\": 3}, {\"Buts_OM\": 2}, {\"Buts_OM\": 0}, {\"Buts_OM\": 3}, {\"Buts_OM\": 1}, {\"Buts_OM\": 1}, {\"Buts_OM\": 1}, {\"Buts_OM\": 3}, {\"Buts_OM\": 1}, {\"Buts_OM\": 2}, {\"Buts_OM\": 2}, {\"Buts_OM\": 1}, {\"Buts_OM\": 0}, {\"Buts_OM\": 5}, {\"Buts_OM\": 2}, {\"Buts_OM\": 2}, {\"Buts_OM\": 0}, {\"Buts_OM\": 4}, {\"Buts_OM\": 3}, {\"Buts_OM\": 3}, {\"Buts_OM\": 1}, {\"Buts_OM\": 1}, {\"Buts_OM\": 1}, {\"Buts_OM\": 0}, {\"Buts_OM\": 3}, {\"Buts_OM\": 1}, {\"Buts_OM\": 1}, {\"Buts_OM\": 1}, {\"Buts_OM\": 1}, {\"Buts_OM\": 4}, {\"Buts_OM\": 4}, {\"Buts_OM\": 0}, {\"Buts_OM\": 5}, {\"Buts_OM\": 2}, {\"Buts_OM\": 1}, {\"Buts_OM\": 4}, {\"Buts_OM\": 3}, {\"Buts_OM\": 0}, {\"Buts_OM\": 1}, {\"Buts_OM\": 0}, {\"Buts_OM\": 2}, {\"Buts_OM\": 2}, {\"Buts_OM\": 2}, {\"Buts_OM\": 1}, {\"Buts_OM\": 3}, {\"Buts_OM\": 1}, {\"Buts_OM\": 1}, {\"Buts_OM\": 5}, {\"Buts_OM\": 2}, {\"Buts_OM\": 0}, {\"Buts_OM\": 2}, {\"Buts_OM\": 1}, {\"Buts_OM\": 2}, {\"Buts_OM\": 2}, {\"Buts_OM\": 2}, {\"Buts_OM\": 1}, {\"Buts_OM\": 1}, {\"Buts_OM\": 0}, {\"Buts_OM\": 0}, {\"Buts_OM\": 3}, {\"Buts_OM\": 1}, {\"Buts_OM\": 1}, {\"Buts_OM\": 0}, {\"Buts_OM\": 2}, {\"Buts_OM\": 0}, {\"Buts_OM\": 2}, {\"Buts_OM\": 0}, {\"Buts_OM\": 2}, {\"Buts_OM\": 2}, {\"Buts_OM\": 0}, {\"Buts_OM\": 1}, {\"Buts_OM\": 2}, {\"Buts_OM\": 1}, {\"Buts_OM\": 1}, {\"Buts_OM\": 1}, {\"Buts_OM\": 1}, {\"Buts_OM\": 2}, {\"Buts_OM\": 2}, {\"Buts_OM\": 1}, {\"Buts_OM\": 0}, {\"Buts_OM\": 1}, {\"Buts_OM\": 1}, {\"Buts_OM\": 1}, {\"Buts_OM\": 1}, {\"Buts_OM\": 1}, {\"Buts_OM\": 1}, {\"Buts_OM\": 1}, {\"Buts_OM\": 1}, {\"Buts_OM\": 3}, {\"Buts_OM\": 2}, {\"Buts_OM\": 1}, {\"Buts_OM\": 1}, {\"Buts_OM\": 3}, {\"Buts_OM\": 1}, {\"Buts_OM\": 0}, {\"Buts_OM\": 0}, {\"Buts_OM\": 1}, {\"Buts_OM\": 3}, {\"Buts_OM\": 1}, {\"Buts_OM\": 2}, {\"Buts_OM\": 4}, {\"Buts_OM\": 1}, {\"Buts_OM\": 1}, {\"Buts_OM\": 1}, {\"Buts_OM\": 0}, {\"Buts_OM\": 2}, {\"Buts_OM\": 2}, {\"Buts_OM\": 0}, {\"Buts_OM\": 1}, {\"Buts_OM\": 1}, {\"Buts_OM\": 2}, {\"Buts_OM\": 2}, {\"Buts_OM\": 4}, {\"Buts_OM\": 3}, {\"Buts_OM\": 1}, {\"Buts_OM\": 1}, {\"Buts_OM\": 1}, {\"Buts_OM\": 0}, {\"Buts_OM\": 0}, {\"Buts_OM\": 6}, {\"Buts_OM\": 0}, {\"Buts_OM\": 1}, {\"Buts_OM\": 2}, {\"Buts_OM\": 1}, {\"Buts_OM\": 1}, {\"Buts_OM\": 3}, {\"Buts_OM\": 2}, {\"Buts_OM\": 1}, {\"Buts_OM\": 2}, {\"Buts_OM\": 0}, {\"Buts_OM\": 0}, {\"Buts_OM\": 3}, {\"Buts_OM\": 0}]}}, {\"mode\": \"vega-lite\"});\n",
       "</script>"
      ],
      "text/plain": [
       "alt.Chart(...)"
      ]
     },
     "execution_count": 28,
     "metadata": {},
     "output_type": "execute_result"
    }
   ],
   "source": [
    "alt.Chart(matchs[[\"Buts_OM\"]]).mark_bar().encode(\n",
    "    x=alt.X(\"Buts_OM:O\", title=\"Buts de l'OM\", axis=alt.Axis(labelAngle=0)),\n",
    "    y=alt.Y(\"count():Q\", title='Matchs'),\n",
    "    color=\"Buts_OM:O\",\n",
    "    tooltip=[alt.Tooltip(\"Buts_OM:O\", title=\"Buts de l'OM\"), alt.Tooltip(\"count():Q\", title=\"Nb Matches\")]\n",
    ").properties(\n",
    "    width=DEFAULT_WIDTH\n",
    ")"
   ]
  },
  {
   "cell_type": "markdown",
   "metadata": {
    "pycharm": {
     "name": "#%% md\n"
    }
   },
   "source": [
    "## Nombre de buts de l'adversaire"
   ]
  },
  {
   "cell_type": "code",
   "execution_count": 29,
   "metadata": {
    "pycharm": {
     "name": "#%%\n"
    }
   },
   "outputs": [
    {
     "data": {
      "text/html": [
       "\n",
       "<div id=\"altair-viz-da63d33e547d493d850ef2bfa98617d3\"></div>\n",
       "<script type=\"text/javascript\">\n",
       "  var VEGA_DEBUG = (typeof VEGA_DEBUG == \"undefined\") ? {} : VEGA_DEBUG;\n",
       "  (function(spec, embedOpt){\n",
       "    let outputDiv = document.currentScript.previousElementSibling;\n",
       "    if (outputDiv.id !== \"altair-viz-da63d33e547d493d850ef2bfa98617d3\") {\n",
       "      outputDiv = document.getElementById(\"altair-viz-da63d33e547d493d850ef2bfa98617d3\");\n",
       "    }\n",
       "    const paths = {\n",
       "      \"vega\": \"https://cdn.jsdelivr.net/npm//vega@5?noext\",\n",
       "      \"vega-lib\": \"https://cdn.jsdelivr.net/npm//vega-lib?noext\",\n",
       "      \"vega-lite\": \"https://cdn.jsdelivr.net/npm//vega-lite@4.17.0?noext\",\n",
       "      \"vega-embed\": \"https://cdn.jsdelivr.net/npm//vega-embed@6?noext\",\n",
       "    };\n",
       "\n",
       "    function maybeLoadScript(lib, version) {\n",
       "      var key = `${lib.replace(\"-\", \"\")}_version`;\n",
       "      return (VEGA_DEBUG[key] == version) ?\n",
       "        Promise.resolve(paths[lib]) :\n",
       "        new Promise(function(resolve, reject) {\n",
       "          var s = document.createElement('script');\n",
       "          document.getElementsByTagName(\"head\")[0].appendChild(s);\n",
       "          s.async = true;\n",
       "          s.onload = () => {\n",
       "            VEGA_DEBUG[key] = version;\n",
       "            return resolve(paths[lib]);\n",
       "          };\n",
       "          s.onerror = () => reject(`Error loading script: ${paths[lib]}`);\n",
       "          s.src = paths[lib];\n",
       "        });\n",
       "    }\n",
       "\n",
       "    function showError(err) {\n",
       "      outputDiv.innerHTML = `<div class=\"error\" style=\"color:red;\">${err}</div>`;\n",
       "      throw err;\n",
       "    }\n",
       "\n",
       "    function displayChart(vegaEmbed) {\n",
       "      vegaEmbed(outputDiv, spec, embedOpt)\n",
       "        .catch(err => showError(`Javascript Error: ${err.message}<br>This usually means there's a typo in your chart specification. See the javascript console for the full traceback.`));\n",
       "    }\n",
       "\n",
       "    if(typeof define === \"function\" && define.amd) {\n",
       "      requirejs.config({paths});\n",
       "      require([\"vega-embed\"], displayChart, err => showError(`Error loading script: ${err.message}`));\n",
       "    } else {\n",
       "      maybeLoadScript(\"vega\", \"5\")\n",
       "        .then(() => maybeLoadScript(\"vega-lite\", \"4.17.0\"))\n",
       "        .then(() => maybeLoadScript(\"vega-embed\", \"6\"))\n",
       "        .catch(showError)\n",
       "        .then(() => displayChart(vegaEmbed));\n",
       "    }\n",
       "  })({\"config\": {\"view\": {\"continuousWidth\": 400, \"continuousHeight\": 300}}, \"data\": {\"name\": \"data-631bc6d48268e65ae4eacf6d0eca9ca4\"}, \"mark\": \"bar\", \"encoding\": {\"color\": {\"field\": \"Buts_Adversaire\", \"scale\": {\"scheme\": \"reds\"}, \"type\": \"ordinal\"}, \"tooltip\": [{\"field\": \"Buts_Adversaire\", \"title\": \"Buts de l'OM\", \"type\": \"ordinal\"}, {\"aggregate\": \"count\", \"title\": \"Nb Matches\", \"type\": \"quantitative\"}], \"x\": {\"axis\": {\"labelAngle\": 0}, \"field\": \"Buts_Adversaire\", \"title\": \"Buts de l'adversaire\", \"type\": \"ordinal\"}, \"y\": {\"aggregate\": \"count\", \"title\": \"Matchs\", \"type\": \"quantitative\"}}, \"width\": 800, \"$schema\": \"https://vega.github.io/schema/vega-lite/v4.17.0.json\", \"datasets\": {\"data-631bc6d48268e65ae4eacf6d0eca9ca4\": [{\"Buts_Adversaire\": 2}, {\"Buts_Adversaire\": 1}, {\"Buts_Adversaire\": 1}, {\"Buts_Adversaire\": 1}, {\"Buts_Adversaire\": 2}, {\"Buts_Adversaire\": 0}, {\"Buts_Adversaire\": 1}, {\"Buts_Adversaire\": 1}, {\"Buts_Adversaire\": 1}, {\"Buts_Adversaire\": 2}, {\"Buts_Adversaire\": 2}, {\"Buts_Adversaire\": 4}, {\"Buts_Adversaire\": 1}, {\"Buts_Adversaire\": 1}, {\"Buts_Adversaire\": 0}, {\"Buts_Adversaire\": 0}, {\"Buts_Adversaire\": 1}, {\"Buts_Adversaire\": 0}, {\"Buts_Adversaire\": 1}, {\"Buts_Adversaire\": 2}, {\"Buts_Adversaire\": 0}, {\"Buts_Adversaire\": 0}, {\"Buts_Adversaire\": 1}, {\"Buts_Adversaire\": 1}, {\"Buts_Adversaire\": 0}, {\"Buts_Adversaire\": 4}, {\"Buts_Adversaire\": 0}, {\"Buts_Adversaire\": 0}, {\"Buts_Adversaire\": 0}, {\"Buts_Adversaire\": 0}, {\"Buts_Adversaire\": 1}, {\"Buts_Adversaire\": 0}, {\"Buts_Adversaire\": 2}, {\"Buts_Adversaire\": 0}, {\"Buts_Adversaire\": 3}, {\"Buts_Adversaire\": 0}, {\"Buts_Adversaire\": 2}, {\"Buts_Adversaire\": 1}, {\"Buts_Adversaire\": 1}, {\"Buts_Adversaire\": 0}, {\"Buts_Adversaire\": 1}, {\"Buts_Adversaire\": 0}, {\"Buts_Adversaire\": 1}, {\"Buts_Adversaire\": 2}, {\"Buts_Adversaire\": 2}, {\"Buts_Adversaire\": 2}, {\"Buts_Adversaire\": 1}, {\"Buts_Adversaire\": 1}, {\"Buts_Adversaire\": 1}, {\"Buts_Adversaire\": 2}, {\"Buts_Adversaire\": 0}, {\"Buts_Adversaire\": 1}, {\"Buts_Adversaire\": 3}, {\"Buts_Adversaire\": 0}, {\"Buts_Adversaire\": 3}, {\"Buts_Adversaire\": 2}, {\"Buts_Adversaire\": 1}, {\"Buts_Adversaire\": 1}, {\"Buts_Adversaire\": 2}, {\"Buts_Adversaire\": 2}, {\"Buts_Adversaire\": 3}, {\"Buts_Adversaire\": 2}, {\"Buts_Adversaire\": 2}, {\"Buts_Adversaire\": 0}, {\"Buts_Adversaire\": 0}, {\"Buts_Adversaire\": 1}, {\"Buts_Adversaire\": 0}, {\"Buts_Adversaire\": 2}, {\"Buts_Adversaire\": 2}, {\"Buts_Adversaire\": 1}, {\"Buts_Adversaire\": 3}, {\"Buts_Adversaire\": 1}, {\"Buts_Adversaire\": 2}, {\"Buts_Adversaire\": 1}, {\"Buts_Adversaire\": 2}, {\"Buts_Adversaire\": 0}, {\"Buts_Adversaire\": 2}, {\"Buts_Adversaire\": 1}, {\"Buts_Adversaire\": 1}, {\"Buts_Adversaire\": 0}, {\"Buts_Adversaire\": 1}, {\"Buts_Adversaire\": 1}, {\"Buts_Adversaire\": 0}, {\"Buts_Adversaire\": 3}, {\"Buts_Adversaire\": 3}, {\"Buts_Adversaire\": 0}, {\"Buts_Adversaire\": 2}, {\"Buts_Adversaire\": 1}, {\"Buts_Adversaire\": 1}, {\"Buts_Adversaire\": 1}, {\"Buts_Adversaire\": 2}, {\"Buts_Adversaire\": 2}, {\"Buts_Adversaire\": 1}, {\"Buts_Adversaire\": 2}, {\"Buts_Adversaire\": 0}, {\"Buts_Adversaire\": 0}, {\"Buts_Adversaire\": 1}, {\"Buts_Adversaire\": 1}, {\"Buts_Adversaire\": 3}, {\"Buts_Adversaire\": 0}, {\"Buts_Adversaire\": 0}, {\"Buts_Adversaire\": 0}, {\"Buts_Adversaire\": 1}, {\"Buts_Adversaire\": 0}, {\"Buts_Adversaire\": 0}, {\"Buts_Adversaire\": 1}, {\"Buts_Adversaire\": 1}, {\"Buts_Adversaire\": 1}, {\"Buts_Adversaire\": 1}, {\"Buts_Adversaire\": 2}, {\"Buts_Adversaire\": 1}, {\"Buts_Adversaire\": 1}, {\"Buts_Adversaire\": 0}, {\"Buts_Adversaire\": 1}, {\"Buts_Adversaire\": 0}, {\"Buts_Adversaire\": 1}, {\"Buts_Adversaire\": 3}, {\"Buts_Adversaire\": 0}, {\"Buts_Adversaire\": 4}, {\"Buts_Adversaire\": 0}, {\"Buts_Adversaire\": 1}, {\"Buts_Adversaire\": 0}, {\"Buts_Adversaire\": 3}, {\"Buts_Adversaire\": 1}, {\"Buts_Adversaire\": 1}, {\"Buts_Adversaire\": 3}, {\"Buts_Adversaire\": 2}, {\"Buts_Adversaire\": 0}, {\"Buts_Adversaire\": 2}, {\"Buts_Adversaire\": 2}, {\"Buts_Adversaire\": 2}, {\"Buts_Adversaire\": 1}, {\"Buts_Adversaire\": 1}, {\"Buts_Adversaire\": 2}, {\"Buts_Adversaire\": 0}, {\"Buts_Adversaire\": 1}, {\"Buts_Adversaire\": 0}, {\"Buts_Adversaire\": 0}, {\"Buts_Adversaire\": 3}, {\"Buts_Adversaire\": 0}, {\"Buts_Adversaire\": 2}, {\"Buts_Adversaire\": 2}, {\"Buts_Adversaire\": 0}, {\"Buts_Adversaire\": 1}, {\"Buts_Adversaire\": 1}, {\"Buts_Adversaire\": 1}, {\"Buts_Adversaire\": 2}, {\"Buts_Adversaire\": 1}, {\"Buts_Adversaire\": 2}, {\"Buts_Adversaire\": 1}, {\"Buts_Adversaire\": 4}, {\"Buts_Adversaire\": 0}, {\"Buts_Adversaire\": 3}, {\"Buts_Adversaire\": 3}, {\"Buts_Adversaire\": 3}, {\"Buts_Adversaire\": 2}, {\"Buts_Adversaire\": 3}, {\"Buts_Adversaire\": 2}, {\"Buts_Adversaire\": 0}, {\"Buts_Adversaire\": 2}, {\"Buts_Adversaire\": 3}, {\"Buts_Adversaire\": 2}, {\"Buts_Adversaire\": 0}, {\"Buts_Adversaire\": 0}, {\"Buts_Adversaire\": 2}, {\"Buts_Adversaire\": 2}, {\"Buts_Adversaire\": 0}, {\"Buts_Adversaire\": 2}, {\"Buts_Adversaire\": 4}, {\"Buts_Adversaire\": 3}, {\"Buts_Adversaire\": 1}, {\"Buts_Adversaire\": 0}, {\"Buts_Adversaire\": 3}, {\"Buts_Adversaire\": 0}, {\"Buts_Adversaire\": 1}, {\"Buts_Adversaire\": 2}, {\"Buts_Adversaire\": 1}, {\"Buts_Adversaire\": 3}, {\"Buts_Adversaire\": 1}, {\"Buts_Adversaire\": 0}, {\"Buts_Adversaire\": 2}, {\"Buts_Adversaire\": 2}, {\"Buts_Adversaire\": 1}, {\"Buts_Adversaire\": 1}, {\"Buts_Adversaire\": 1}, {\"Buts_Adversaire\": 1}, {\"Buts_Adversaire\": 3}, {\"Buts_Adversaire\": 1}, {\"Buts_Adversaire\": 0}, {\"Buts_Adversaire\": 1}, {\"Buts_Adversaire\": 3}, {\"Buts_Adversaire\": 3}, {\"Buts_Adversaire\": 1}, {\"Buts_Adversaire\": 2}, {\"Buts_Adversaire\": 3}, {\"Buts_Adversaire\": 0}, {\"Buts_Adversaire\": 2}, {\"Buts_Adversaire\": 0}, {\"Buts_Adversaire\": 0}, {\"Buts_Adversaire\": 0}, {\"Buts_Adversaire\": 0}, {\"Buts_Adversaire\": 0}, {\"Buts_Adversaire\": 0}, {\"Buts_Adversaire\": 0}, {\"Buts_Adversaire\": 0}, {\"Buts_Adversaire\": 2}, {\"Buts_Adversaire\": 2}, {\"Buts_Adversaire\": 1}, {\"Buts_Adversaire\": 1}, {\"Buts_Adversaire\": 1}, {\"Buts_Adversaire\": 0}, {\"Buts_Adversaire\": 0}, {\"Buts_Adversaire\": 1}, {\"Buts_Adversaire\": 1}, {\"Buts_Adversaire\": 2}, {\"Buts_Adversaire\": 0}, {\"Buts_Adversaire\": 1}, {\"Buts_Adversaire\": 0}, {\"Buts_Adversaire\": 0}, {\"Buts_Adversaire\": 0}, {\"Buts_Adversaire\": 1}, {\"Buts_Adversaire\": 2}, {\"Buts_Adversaire\": 3}, {\"Buts_Adversaire\": 0}, {\"Buts_Adversaire\": 6}, {\"Buts_Adversaire\": 3}, {\"Buts_Adversaire\": 0}, {\"Buts_Adversaire\": 0}, {\"Buts_Adversaire\": 0}, {\"Buts_Adversaire\": 0}, {\"Buts_Adversaire\": 1}, {\"Buts_Adversaire\": 1}, {\"Buts_Adversaire\": 0}, {\"Buts_Adversaire\": 2}, {\"Buts_Adversaire\": 0}, {\"Buts_Adversaire\": 0}, {\"Buts_Adversaire\": 1}, {\"Buts_Adversaire\": 1}, {\"Buts_Adversaire\": 1}, {\"Buts_Adversaire\": 1}, {\"Buts_Adversaire\": 0}, {\"Buts_Adversaire\": 0}, {\"Buts_Adversaire\": 1}, {\"Buts_Adversaire\": 0}, {\"Buts_Adversaire\": 0}, {\"Buts_Adversaire\": 3}, {\"Buts_Adversaire\": 0}, {\"Buts_Adversaire\": 5}, {\"Buts_Adversaire\": 4}, {\"Buts_Adversaire\": 4}, {\"Buts_Adversaire\": 3}, {\"Buts_Adversaire\": 1}, {\"Buts_Adversaire\": 1}, {\"Buts_Adversaire\": 1}, {\"Buts_Adversaire\": 1}, {\"Buts_Adversaire\": 1}, {\"Buts_Adversaire\": 0}, {\"Buts_Adversaire\": 1}, {\"Buts_Adversaire\": 1}, {\"Buts_Adversaire\": 3}, {\"Buts_Adversaire\": 0}, {\"Buts_Adversaire\": 4}, {\"Buts_Adversaire\": 0}, {\"Buts_Adversaire\": 0}, {\"Buts_Adversaire\": 1}, {\"Buts_Adversaire\": 0}, {\"Buts_Adversaire\": 0}, {\"Buts_Adversaire\": 1}, {\"Buts_Adversaire\": 0}, {\"Buts_Adversaire\": 3}, {\"Buts_Adversaire\": 0}, {\"Buts_Adversaire\": 3}, {\"Buts_Adversaire\": 1}, {\"Buts_Adversaire\": 0}, {\"Buts_Adversaire\": 2}, {\"Buts_Adversaire\": 0}, {\"Buts_Adversaire\": 1}, {\"Buts_Adversaire\": 0}, {\"Buts_Adversaire\": 0}, {\"Buts_Adversaire\": 1}, {\"Buts_Adversaire\": 4}, {\"Buts_Adversaire\": 5}, {\"Buts_Adversaire\": 2}, {\"Buts_Adversaire\": 0}, {\"Buts_Adversaire\": 2}, {\"Buts_Adversaire\": 0}, {\"Buts_Adversaire\": 1}, {\"Buts_Adversaire\": 0}, {\"Buts_Adversaire\": 1}, {\"Buts_Adversaire\": 1}, {\"Buts_Adversaire\": 1}, {\"Buts_Adversaire\": 1}, {\"Buts_Adversaire\": 1}, {\"Buts_Adversaire\": 0}, {\"Buts_Adversaire\": 1}, {\"Buts_Adversaire\": 1}, {\"Buts_Adversaire\": 2}, {\"Buts_Adversaire\": 1}, {\"Buts_Adversaire\": 0}, {\"Buts_Adversaire\": 0}, {\"Buts_Adversaire\": 2}, {\"Buts_Adversaire\": 3}, {\"Buts_Adversaire\": 0}, {\"Buts_Adversaire\": 2}, {\"Buts_Adversaire\": 2}, {\"Buts_Adversaire\": 1}, {\"Buts_Adversaire\": 0}, {\"Buts_Adversaire\": 0}, {\"Buts_Adversaire\": 1}, {\"Buts_Adversaire\": 0}, {\"Buts_Adversaire\": 1}, {\"Buts_Adversaire\": 1}, {\"Buts_Adversaire\": 2}, {\"Buts_Adversaire\": 1}, {\"Buts_Adversaire\": 3}, {\"Buts_Adversaire\": 1}, {\"Buts_Adversaire\": 1}, {\"Buts_Adversaire\": 0}, {\"Buts_Adversaire\": 1}, {\"Buts_Adversaire\": 1}, {\"Buts_Adversaire\": 2}, {\"Buts_Adversaire\": 1}, {\"Buts_Adversaire\": 1}, {\"Buts_Adversaire\": 0}, {\"Buts_Adversaire\": 2}, {\"Buts_Adversaire\": 0}, {\"Buts_Adversaire\": 0}, {\"Buts_Adversaire\": 0}, {\"Buts_Adversaire\": 2}, {\"Buts_Adversaire\": 2}, {\"Buts_Adversaire\": 1}, {\"Buts_Adversaire\": 0}, {\"Buts_Adversaire\": 3}, {\"Buts_Adversaire\": 3}, {\"Buts_Adversaire\": 0}, {\"Buts_Adversaire\": 0}, {\"Buts_Adversaire\": 2}]}}, {\"mode\": \"vega-lite\"});\n",
       "</script>"
      ],
      "text/plain": [
       "alt.Chart(...)"
      ]
     },
     "execution_count": 29,
     "metadata": {},
     "output_type": "execute_result"
    }
   ],
   "source": [
    "alt.Chart(matchs[[\"Buts_Adversaire\"]]).mark_bar().encode(\n",
    "    x=alt.X(\"Buts_Adversaire:O\", title=\"Buts de l'adversaire\", axis=alt.Axis(labelAngle=0)),\n",
    "    y=alt.Y(\"count():Q\", title=\"Matchs\"),\n",
    "    color=alt.Color(\"Buts_Adversaire:O\", scale=alt.Scale(scheme=\"reds\")),\n",
    "    tooltip=[alt.Tooltip(\"Buts_Adversaire:O\", title=\"Buts de l'OM\"), alt.Tooltip(\"count():Q\", title=\"Nb Matches\")]\n",
    ").properties(\n",
    "    width=DEFAULT_WIDTH\n",
    ")"
   ]
  },
  {
   "cell_type": "markdown",
   "metadata": {
    "pycharm": {
     "name": "#%% md\n"
    }
   },
   "source": [
    "## Différence de But par Adversaire"
   ]
  },
  {
   "cell_type": "code",
   "execution_count": 9,
   "metadata": {
    "pycharm": {
     "name": "#%%\n"
    }
   },
   "outputs": [],
   "source": [
    "by_adv = matchs.groupby(\"Adversaire\").size()"
   ]
  },
  {
   "cell_type": "code",
   "execution_count": 10,
   "metadata": {
    "pycharm": {
     "name": "#%%\n"
    }
   },
   "outputs": [],
   "source": [
    "# Il va falloir traiter les doublons...\n",
    "\n",
    "# * ASSE / Saint-Etienne / Saint-Étienne\n",
    "# * TFC / Toulouse\n",
    "# * MHSC / Montpellier\n",
    "# * Gazélec / Gazéléc\n",
    "# * Konyaspot / Konyasport\n",
    "# * Salzbourg / Salzburg\n",
    "# * Athletic / Bilbao"
   ]
  },
  {
   "cell_type": "code",
   "execution_count": 21,
   "metadata": {
    "pycharm": {
     "name": "#%%\n"
    }
   },
   "outputs": [],
   "source": [
    "normalize = [\n",
    "    {\"dups\": [\"ASSE\", \"Saint-Etienne\", \"Saint-Étienne\"], \"norm\": \"Saint-Étienne\"},\n",
    "    {\"dups\": [\"TFC\", \"Toulouse\"], \"norm\": \"Toulouse\"},\n",
    "    {\"dups\": [\"MHSC\", \"Montpellier\"], \"norm\": \"Montpellier\"},\n",
    "    {\"dups\": [\"Gazélec\", \"Gazéléc\"], \"norm\": \"Gazélec Ajaccio\"},\n",
    "    {\"dups\": [\"Konyaspor\", \"Konyasport\"], \"norm\": \"Konyaspor\"},\n",
    "    {\"dups\": [\"Salzbourg\", \"Salzburg\"], \"norm\": \"Salzburg\"},\n",
    "    {\"dups\": [\"Athletic\", \"Bilbao\"], \"norm\": \"Athletic Bilbao\"},\n",
    "    {\"dups\": [\"Atlético\"], \"norm\": \"Atletico Madrid\"},\n",
    "    {\"dups\": [\"PAOK\", 'PAOK Salonique'], \"norm\": \"PAOK\"}\n",
    "]"
   ]
  },
  {
   "cell_type": "code",
   "execution_count": 22,
   "metadata": {},
   "outputs": [],
   "source": [
    "matchs[\"Publications\"] = 1"
   ]
  },
  {
   "cell_type": "code",
   "execution_count": 23,
   "metadata": {
    "pycharm": {
     "name": "#%%\n"
    }
   },
   "outputs": [],
   "source": [
    "for dedup in normalize:\n",
    "    matchs.loc[matchs[\"Adversaire\"].isin(dedup[\"dups\"]), \"Adversaire\"] = dedup[\"norm\"]"
   ]
  },
  {
   "cell_type": "code",
   "execution_count": 24,
   "metadata": {
    "pycharm": {
     "name": "#%%\n"
    }
   },
   "outputs": [],
   "source": [
    "by_adv = matchs.groupby(\"Adversaire\").agg({\"Publications\": \"sum\", \"Buts_OM\": \"sum\", \"Buts_Adversaire\": \"sum\"})\n",
    "by_adv.reset_index(inplace=True)"
   ]
  },
  {
   "cell_type": "code",
   "execution_count": 25,
   "metadata": {
    "pycharm": {
     "name": "#%%\n"
    }
   },
   "outputs": [],
   "source": [
    "by_adv[\"Différence de Buts\"] = by_adv[\"Buts_OM\"] - by_adv[\"Buts_Adversaire\"]"
   ]
  },
  {
   "cell_type": "code",
   "execution_count": 26,
   "metadata": {
    "pycharm": {
     "name": "#%%\n"
    }
   },
   "outputs": [
    {
     "data": {
      "text/html": [
       "\n",
       "<div id=\"altair-viz-23abaa56a05144cb9aab44af33a2f8d1\"></div>\n",
       "<script type=\"text/javascript\">\n",
       "  var VEGA_DEBUG = (typeof VEGA_DEBUG == \"undefined\") ? {} : VEGA_DEBUG;\n",
       "  (function(spec, embedOpt){\n",
       "    let outputDiv = document.currentScript.previousElementSibling;\n",
       "    if (outputDiv.id !== \"altair-viz-23abaa56a05144cb9aab44af33a2f8d1\") {\n",
       "      outputDiv = document.getElementById(\"altair-viz-23abaa56a05144cb9aab44af33a2f8d1\");\n",
       "    }\n",
       "    const paths = {\n",
       "      \"vega\": \"https://cdn.jsdelivr.net/npm//vega@5?noext\",\n",
       "      \"vega-lib\": \"https://cdn.jsdelivr.net/npm//vega-lib?noext\",\n",
       "      \"vega-lite\": \"https://cdn.jsdelivr.net/npm//vega-lite@4.17.0?noext\",\n",
       "      \"vega-embed\": \"https://cdn.jsdelivr.net/npm//vega-embed@6?noext\",\n",
       "    };\n",
       "\n",
       "    function maybeLoadScript(lib, version) {\n",
       "      var key = `${lib.replace(\"-\", \"\")}_version`;\n",
       "      return (VEGA_DEBUG[key] == version) ?\n",
       "        Promise.resolve(paths[lib]) :\n",
       "        new Promise(function(resolve, reject) {\n",
       "          var s = document.createElement('script');\n",
       "          document.getElementsByTagName(\"head\")[0].appendChild(s);\n",
       "          s.async = true;\n",
       "          s.onload = () => {\n",
       "            VEGA_DEBUG[key] = version;\n",
       "            return resolve(paths[lib]);\n",
       "          };\n",
       "          s.onerror = () => reject(`Error loading script: ${paths[lib]}`);\n",
       "          s.src = paths[lib];\n",
       "        });\n",
       "    }\n",
       "\n",
       "    function showError(err) {\n",
       "      outputDiv.innerHTML = `<div class=\"error\" style=\"color:red;\">${err}</div>`;\n",
       "      throw err;\n",
       "    }\n",
       "\n",
       "    function displayChart(vegaEmbed) {\n",
       "      vegaEmbed(outputDiv, spec, embedOpt)\n",
       "        .catch(err => showError(`Javascript Error: ${err.message}<br>This usually means there's a typo in your chart specification. See the javascript console for the full traceback.`));\n",
       "    }\n",
       "\n",
       "    if(typeof define === \"function\" && define.amd) {\n",
       "      requirejs.config({paths});\n",
       "      require([\"vega-embed\"], displayChart, err => showError(`Error loading script: ${err.message}`));\n",
       "    } else {\n",
       "      maybeLoadScript(\"vega\", \"5\")\n",
       "        .then(() => maybeLoadScript(\"vega-lite\", \"4.17.0\"))\n",
       "        .then(() => maybeLoadScript(\"vega-embed\", \"6\"))\n",
       "        .catch(showError)\n",
       "        .then(() => displayChart(vegaEmbed));\n",
       "    }\n",
       "  })({\"config\": {\"view\": {\"continuousWidth\": 400, \"continuousHeight\": 300}}, \"data\": {\"name\": \"data-543e92dbdd9a02413d2f219f8fc15ed1\"}, \"mark\": \"bar\", \"encoding\": {\"color\": {\"field\": \"Diff\\u00e9rence de Buts\", \"scale\": {\"scheme\": \"redyellowgreen\"}, \"type\": \"quantitative\"}, \"tooltip\": [{\"field\": \"Adversaire\", \"type\": \"nominal\"}, {\"field\": \"Diff\\u00e9rence de Buts\", \"type\": \"quantitative\"}, {\"field\": \"Publications\", \"title\": \"Nb Matches\", \"type\": \"quantitative\"}], \"x\": {\"axis\": {\"labelAngle\": -45}, \"field\": \"Adversaire\", \"sort\": {\"field\": \"Diff\\u00e9rence de Buts\", \"order\": \"ascending\"}, \"type\": \"ordinal\"}, \"y\": {\"field\": \"Diff\\u00e9rence de Buts\", \"type\": \"quantitative\"}}, \"height\": 600, \"selection\": {\"matches\": {\"type\": \"single\", \"fields\": [\"Publications\"], \"bind\": {\"input\": \"range\", \"max\": 15.0, \"min\": 1.0, \"name\": \"Nombre Minimum de Matchs: \", \"step\": 1}, \"init\": {\"Publications\": 1}}}, \"transform\": [{\"filter\": \"datum.Publications >= matches_Publications\"}], \"width\": 1200, \"$schema\": \"https://vega.github.io/schema/vega-lite/v4.17.0.json\", \"datasets\": {\"data-543e92dbdd9a02413d2f219f8fc15ed1\": [{\"Adversaire\": \"Amiens\", \"Publications\": 6, \"Buts_OM\": 12, \"Buts_Adversaire\": 7, \"Diff\\u00e9rence de Buts\": 5}, {\"Adversaire\": \"Angers\", \"Publications\": 14, \"Buts_OM\": 22, \"Buts_Adversaire\": 14, \"Diff\\u00e9rence de Buts\": 8}, {\"Adversaire\": \"Apollon Limassol\", \"Publications\": 2, \"Buts_OM\": 3, \"Buts_Adversaire\": 5, \"Diff\\u00e9rence de Buts\": -2}, {\"Adversaire\": \"Association sportive for\\u00e9zienne Andr\\u00e9zieux-Bouth\\u00e9on\", \"Publications\": 1, \"Buts_OM\": 0, \"Buts_Adversaire\": 2, \"Diff\\u00e9rence de Buts\": -2}, {\"Adversaire\": \"Athletic Bilbao\", \"Publications\": 3, \"Buts_OM\": 6, \"Buts_Adversaire\": 3, \"Diff\\u00e9rence de Buts\": 3}, {\"Adversaire\": \"Atletico Madrid\", \"Publications\": 1, \"Buts_OM\": 0, \"Buts_Adversaire\": 3, \"Diff\\u00e9rence de Buts\": -3}, {\"Adversaire\": \"Auxerre\", \"Publications\": 1, \"Buts_OM\": 2, \"Buts_Adversaire\": 0, \"Diff\\u00e9rence de Buts\": 2}, {\"Adversaire\": \"Bastia\", \"Publications\": 4, \"Buts_OM\": 8, \"Buts_Adversaire\": 4, \"Diff\\u00e9rence de Buts\": 4}, {\"Adversaire\": \"Bordeaux\", \"Publications\": 14, \"Buts_OM\": 14, \"Buts_Adversaire\": 9, \"Diff\\u00e9rence de Buts\": 5}, {\"Adversaire\": \"Bourpe\", \"Publications\": 2, \"Buts_OM\": 12, \"Buts_Adversaire\": 2, \"Diff\\u00e9rence de Buts\": 10}, {\"Adversaire\": \"Braga\", \"Publications\": 4, \"Buts_OM\": 6, \"Buts_Adversaire\": 4, \"Diff\\u00e9rence de Buts\": 2}, {\"Adversaire\": \"Brest\", \"Publications\": 5, \"Buts_OM\": 13, \"Buts_Adversaire\": 7, \"Diff\\u00e9rence de Buts\": 6}, {\"Adversaire\": \"B\\u00e2le\", \"Publications\": 2, \"Buts_OM\": 4, \"Buts_Adversaire\": 2, \"Diff\\u00e9rence de Buts\": 2}, {\"Adversaire\": \"Caen\", \"Publications\": 9, \"Buts_OM\": 19, \"Buts_Adversaire\": 3, \"Diff\\u00e9rence de Buts\": 16}, {\"Adversaire\": \"Canet-en-Roussillon\", \"Publications\": 1, \"Buts_OM\": 1, \"Buts_Adversaire\": 2, \"Diff\\u00e9rence de Buts\": -1}, {\"Adversaire\": \"Cannet-Rocheville\", \"Publications\": 1, \"Buts_OM\": 4, \"Buts_Adversaire\": 1, \"Diff\\u00e9rence de Buts\": 3}, {\"Adversaire\": \"Chauvigny\", \"Publications\": 1, \"Buts_OM\": 3, \"Buts_Adversaire\": 0, \"Diff\\u00e9rence de Buts\": 3}, {\"Adversaire\": \"Clermont\", \"Publications\": 3, \"Buts_OM\": 3, \"Buts_Adversaire\": 3, \"Diff\\u00e9rence de Buts\": 0}, {\"Adversaire\": \"Dijon\", \"Publications\": 9, \"Buts_OM\": 15, \"Buts_Adversaire\": 4, \"Diff\\u00e9rence de Buts\": 11}, {\"Adversaire\": \"Domzale\", \"Publications\": 2, \"Buts_OM\": 4, \"Buts_Adversaire\": 1, \"Diff\\u00e9rence de Buts\": 3}, {\"Adversaire\": \"Epinal\", \"Publications\": 1, \"Buts_OM\": 2, \"Buts_Adversaire\": 0, \"Diff\\u00e9rence de Buts\": 2}, {\"Adversaire\": \"Feyenoord\", \"Publications\": 2, \"Buts_OM\": 2, \"Buts_Adversaire\": 3, \"Diff\\u00e9rence de Buts\": -1}, {\"Adversaire\": \"Francfort\", \"Publications\": 2, \"Buts_OM\": 1, \"Buts_Adversaire\": 6, \"Diff\\u00e9rence de Buts\": -5}, {\"Adversaire\": \"Galatasaray\", \"Publications\": 2, \"Buts_OM\": 2, \"Buts_Adversaire\": 4, \"Diff\\u00e9rence de Buts\": -2}, {\"Adversaire\": \"Gaz\\u00e9lec Ajaccio\", \"Publications\": 2, \"Buts_OM\": 2, \"Buts_Adversaire\": 2, \"Diff\\u00e9rence de Buts\": 0}, {\"Adversaire\": \"Granville\", \"Publications\": 2, \"Buts_OM\": 4, \"Buts_Adversaire\": 0, \"Diff\\u00e9rence de Buts\": 4}, {\"Adversaire\": \"Groningue\", \"Publications\": 2, \"Buts_OM\": 5, \"Buts_Adversaire\": 1, \"Diff\\u00e9rence de Buts\": 4}, {\"Adversaire\": \"Guingamp\", \"Publications\": 8, \"Buts_OM\": 14, \"Buts_Adversaire\": 8, \"Diff\\u00e9rence de Buts\": 6}, {\"Adversaire\": \"Konyaspor\", \"Publications\": 2, \"Buts_OM\": 2, \"Buts_Adversaire\": 1, \"Diff\\u00e9rence de Buts\": 1}, {\"Adversaire\": \"Lazio\", \"Publications\": 4, \"Buts_OM\": 4, \"Buts_Adversaire\": 7, \"Diff\\u00e9rence de Buts\": -3}, {\"Adversaire\": \"Leipzig\", \"Publications\": 2, \"Buts_OM\": 5, \"Buts_Adversaire\": 3, \"Diff\\u00e9rence de Buts\": 2}, {\"Adversaire\": \"Lens\", \"Publications\": 4, \"Buts_OM\": 6, \"Buts_Adversaire\": 6, \"Diff\\u00e9rence de Buts\": 0}, {\"Adversaire\": \"Liberec\", \"Publications\": 2, \"Buts_OM\": 4, \"Buts_Adversaire\": 3, \"Diff\\u00e9rence de Buts\": 1}, {\"Adversaire\": \"Lille\", \"Publications\": 14, \"Buts_OM\": 18, \"Buts_Adversaire\": 16, \"Diff\\u00e9rence de Buts\": 2}, {\"Adversaire\": \"Lokomotiv Moscou\", \"Publications\": 2, \"Buts_OM\": 2, \"Buts_Adversaire\": 1, \"Diff\\u00e9rence de Buts\": 1}, {\"Adversaire\": \"Lorient\", \"Publications\": 8, \"Buts_OM\": 19, \"Buts_Adversaire\": 6, \"Diff\\u00e9rence de Buts\": 13}, {\"Adversaire\": \"Lyon\", \"Publications\": 15, \"Buts_OM\": 14, \"Buts_Adversaire\": 27, \"Diff\\u00e9rence de Buts\": -13}, {\"Adversaire\": \"Manchester City\", \"Publications\": 2, \"Buts_OM\": 0, \"Buts_Adversaire\": 6, \"Diff\\u00e9rence de Buts\": -6}, {\"Adversaire\": \"Metz\", \"Publications\": 9, \"Buts_OM\": 15, \"Buts_Adversaire\": 8, \"Diff\\u00e9rence de Buts\": 7}, {\"Adversaire\": \"Milan AC\", \"Publications\": 1, \"Buts_OM\": 1, \"Buts_Adversaire\": 0, \"Diff\\u00e9rence de Buts\": 1}, {\"Adversaire\": \"Monaco\", \"Publications\": 15, \"Buts_OM\": 25, \"Buts_Adversaire\": 38, \"Diff\\u00e9rence de Buts\": -13}, {\"Adversaire\": \"Montpellier\", \"Publications\": 15, \"Buts_OM\": 27, \"Buts_Adversaire\": 19, \"Diff\\u00e9rence de Buts\": 8}, {\"Adversaire\": \"Nancy\", \"Publications\": 2, \"Buts_OM\": 3, \"Buts_Adversaire\": 0, \"Diff\\u00e9rence de Buts\": 3}, {\"Adversaire\": \"Nantes\", \"Publications\": 14, \"Buts_OM\": 20, \"Buts_Adversaire\": 18, \"Diff\\u00e9rence de Buts\": 2}, {\"Adversaire\": \"Nice\", \"Publications\": 13, \"Buts_OM\": 21, \"Buts_Adversaire\": 20, \"Diff\\u00e9rence de Buts\": 1}, {\"Adversaire\": \"N\\u00eemes\", \"Publications\": 6, \"Buts_OM\": 12, \"Buts_Adversaire\": 9, \"Diff\\u00e9rence de Buts\": 3}, {\"Adversaire\": \"Olympiakos\", \"Publications\": 2, \"Buts_OM\": 2, \"Buts_Adversaire\": 2, \"Diff\\u00e9rence de Buts\": 0}, {\"Adversaire\": \"Ostende\", \"Publications\": 2, \"Buts_OM\": 4, \"Buts_Adversaire\": 2, \"Diff\\u00e9rence de Buts\": 2}, {\"Adversaire\": \"PAOK\", \"Publications\": 2, \"Buts_OM\": 3, \"Buts_Adversaire\": 1, \"Diff\\u00e9rence de Buts\": 2}, {\"Adversaire\": \"PSG\", \"Publications\": 15, \"Buts_OM\": 10, \"Buts_Adversaire\": 34, \"Diff\\u00e9rence de Buts\": -24}, {\"Adversaire\": \"Porto\", \"Publications\": 2, \"Buts_OM\": 0, \"Buts_Adversaire\": 5, \"Diff\\u00e9rence de Buts\": -5}, {\"Adversaire\": \"Qarabag\", \"Publications\": 2, \"Buts_OM\": 6, \"Buts_Adversaire\": 1, \"Diff\\u00e9rence de Buts\": 5}, {\"Adversaire\": \"Reims\", \"Publications\": 9, \"Buts_OM\": 8, \"Buts_Adversaire\": 8, \"Diff\\u00e9rence de Buts\": 0}, {\"Adversaire\": \"Rennes\", \"Publications\": 15, \"Buts_OM\": 22, \"Buts_Adversaire\": 21, \"Diff\\u00e9rence de Buts\": 1}, {\"Adversaire\": \"Saint-\\u00c9tienne\", \"Publications\": 14, \"Buts_OM\": 25, \"Buts_Adversaire\": 11, \"Diff\\u00e9rence de Buts\": 14}, {\"Adversaire\": \"Salzburg\", \"Publications\": 4, \"Buts_OM\": 3, \"Buts_Adversaire\": 3, \"Diff\\u00e9rence de Buts\": 0}, {\"Adversaire\": \"Sochaux\", \"Publications\": 2, \"Buts_OM\": 2, \"Buts_Adversaire\": 1, \"Diff\\u00e9rence de Buts\": 1}, {\"Adversaire\": \"Strasbourg\", \"Publications\": 10, \"Buts_OM\": 19, \"Buts_Adversaire\": 9, \"Diff\\u00e9rence de Buts\": 10}, {\"Adversaire\": \"Toulouse\", \"Publications\": 12, \"Buts_OM\": 21, \"Buts_Adversaire\": 8, \"Diff\\u00e9rence de Buts\": 13}, {\"Adversaire\": \"Troyes\", \"Publications\": 6, \"Buts_OM\": 15, \"Buts_Adversaire\": 5, \"Diff\\u00e9rence de Buts\": 10}, {\"Adversaire\": \"Tr\\u00e9lissac\", \"Publications\": 1, \"Buts_OM\": 1, \"Buts_Adversaire\": 1, \"Diff\\u00e9rence de Buts\": 0}, {\"Adversaire\": \"Valenciennes\", \"Publications\": 1, \"Buts_OM\": 1, \"Buts_Adversaire\": 0, \"Diff\\u00e9rence de Buts\": 1}, {\"Adversaire\": \"Vitoria Guimares\", \"Publications\": 2, \"Buts_OM\": 2, \"Buts_Adversaire\": 2, \"Diff\\u00e9rence de Buts\": 0}]}}, {\"mode\": \"vega-lite\"});\n",
       "</script>"
      ],
      "text/plain": [
       "alt.Chart(...)"
      ]
     },
     "execution_count": 26,
     "metadata": {},
     "output_type": "execute_result"
    }
   ],
   "source": [
    "slider = alt.binding_range(min=by_adv[\"Publications\"].min(), max=by_adv[\"Publications\"].max(), step=1, name=\"Nombre Minimum de Matchs: \")\n",
    "select_nb_matches = alt.selection_single(name=\"matches\", fields=[\"Publications\"], bind=slider, init={\"Publications\": 1})\n",
    "\n",
    "alt.Chart(by_adv).mark_bar().encode(\n",
    "    y=\"Différence de Buts\",\n",
    "    x=alt.X(\n",
    "        \"Adversaire:O\", \n",
    "        sort=alt.EncodingSortField(field=\"Différence de Buts\", order=\"ascending\"),\n",
    "        axis=alt.Axis(labelAngle=-45)\n",
    "    ),\n",
    "    color=alt.Color(\"Différence de Buts\", scale=alt.Scale(scheme=\"redyellowgreen\")),\n",
    "    tooltip=[\"Adversaire\", \"Différence de Buts\", alt.Tooltip(\"Publications\", title=\"Nb Matches\")]\n",
    ").add_selection(\n",
    "    select_nb_matches\n",
    ").transform_filter(\n",
    "    \"datum.Publications >= matches_Publications\"\n",
    "). properties(height=600,width=1200)"
   ]
  },
  {
   "cell_type": "markdown",
   "metadata": {
    "pycharm": {
     "name": "#%%\n"
    }
   },
   "source": [
    "## Différentiel Victoire / Défaite par Adversaire"
   ]
  },
  {
   "cell_type": "code",
   "execution_count": 18,
   "metadata": {},
   "outputs": [],
   "source": [
    "matchs[\"Victoire\"] = matchs[\"Buts_OM\"] > matchs[\"Buts_Adversaire\"]\n",
    "matchs[\"Défaite\"] =  matchs[\"Buts_OM\"] < matchs[\"Buts_Adversaire\"]\n",
    "matchs[\"Nul\"] =  matchs[\"Buts_OM\"] == matchs[\"Buts_Adversaire\"]"
   ]
  },
  {
   "cell_type": "code",
   "execution_count": 19,
   "metadata": {
    "pycharm": {
     "name": "#%%\n"
    }
   },
   "outputs": [],
   "source": [
    "by_adv = matchs.groupby(\"Adversaire\").agg({\"Publications\": \"sum\", \"Victoire\": \"sum\", \"Défaite\": \"sum\", \"Nul\": \"sum\"})\n",
    "by_adv.reset_index(inplace=True)\n",
    "by_adv[\"Différence Victoire / Défaite\"] = by_adv[\"Victoire\"].astype(int) - by_adv[\"Défaite\"].astype(int)"
   ]
  },
  {
   "cell_type": "code",
   "execution_count": 20,
   "metadata": {
    "pycharm": {
     "name": "#%%\n"
    }
   },
   "outputs": [
    {
     "data": {
      "text/html": [
       "\n",
       "<div id=\"altair-viz-aa4ddd5a2d3d499fb5c3f93e0d2c5bcf\"></div>\n",
       "<script type=\"text/javascript\">\n",
       "  var VEGA_DEBUG = (typeof VEGA_DEBUG == \"undefined\") ? {} : VEGA_DEBUG;\n",
       "  (function(spec, embedOpt){\n",
       "    let outputDiv = document.currentScript.previousElementSibling;\n",
       "    if (outputDiv.id !== \"altair-viz-aa4ddd5a2d3d499fb5c3f93e0d2c5bcf\") {\n",
       "      outputDiv = document.getElementById(\"altair-viz-aa4ddd5a2d3d499fb5c3f93e0d2c5bcf\");\n",
       "    }\n",
       "    const paths = {\n",
       "      \"vega\": \"https://cdn.jsdelivr.net/npm//vega@5?noext\",\n",
       "      \"vega-lib\": \"https://cdn.jsdelivr.net/npm//vega-lib?noext\",\n",
       "      \"vega-lite\": \"https://cdn.jsdelivr.net/npm//vega-lite@4.17.0?noext\",\n",
       "      \"vega-embed\": \"https://cdn.jsdelivr.net/npm//vega-embed@6?noext\",\n",
       "    };\n",
       "\n",
       "    function maybeLoadScript(lib, version) {\n",
       "      var key = `${lib.replace(\"-\", \"\")}_version`;\n",
       "      return (VEGA_DEBUG[key] == version) ?\n",
       "        Promise.resolve(paths[lib]) :\n",
       "        new Promise(function(resolve, reject) {\n",
       "          var s = document.createElement('script');\n",
       "          document.getElementsByTagName(\"head\")[0].appendChild(s);\n",
       "          s.async = true;\n",
       "          s.onload = () => {\n",
       "            VEGA_DEBUG[key] = version;\n",
       "            return resolve(paths[lib]);\n",
       "          };\n",
       "          s.onerror = () => reject(`Error loading script: ${paths[lib]}`);\n",
       "          s.src = paths[lib];\n",
       "        });\n",
       "    }\n",
       "\n",
       "    function showError(err) {\n",
       "      outputDiv.innerHTML = `<div class=\"error\" style=\"color:red;\">${err}</div>`;\n",
       "      throw err;\n",
       "    }\n",
       "\n",
       "    function displayChart(vegaEmbed) {\n",
       "      vegaEmbed(outputDiv, spec, embedOpt)\n",
       "        .catch(err => showError(`Javascript Error: ${err.message}<br>This usually means there's a typo in your chart specification. See the javascript console for the full traceback.`));\n",
       "    }\n",
       "\n",
       "    if(typeof define === \"function\" && define.amd) {\n",
       "      requirejs.config({paths});\n",
       "      require([\"vega-embed\"], displayChart, err => showError(`Error loading script: ${err.message}`));\n",
       "    } else {\n",
       "      maybeLoadScript(\"vega\", \"5\")\n",
       "        .then(() => maybeLoadScript(\"vega-lite\", \"4.17.0\"))\n",
       "        .then(() => maybeLoadScript(\"vega-embed\", \"6\"))\n",
       "        .catch(showError)\n",
       "        .then(() => displayChart(vegaEmbed));\n",
       "    }\n",
       "  })({\"config\": {\"view\": {\"continuousWidth\": 400, \"continuousHeight\": 300}}, \"data\": {\"name\": \"data-e9d50b18e96e9d21ce35caa31dbea40c\"}, \"mark\": \"bar\", \"encoding\": {\"color\": {\"field\": \"Diff\\u00e9rence Victoire / D\\u00e9faite\", \"scale\": {\"domain\": [-10, 10], \"scheme\": \"redyellowgreen\"}, \"type\": \"quantitative\"}, \"tooltip\": [{\"field\": \"Adversaire\", \"type\": \"nominal\"}, {\"field\": \"Victoire\", \"type\": \"quantitative\"}, {\"field\": \"Nul\", \"type\": \"quantitative\"}, {\"field\": \"D\\u00e9faite\", \"type\": \"quantitative\"}, {\"field\": \"Publications\", \"title\": \"Nb Matches\", \"type\": \"quantitative\"}], \"x\": {\"axis\": {\"labelAngle\": -45}, \"field\": \"Adversaire\", \"sort\": {\"field\": \"Diff\\u00e9rence Victoire / D\\u00e9faite\"}, \"type\": \"ordinal\"}, \"y\": {\"field\": \"Diff\\u00e9rence Victoire / D\\u00e9faite\", \"type\": \"quantitative\"}}, \"height\": 600, \"selection\": {\"matches\": {\"type\": \"single\", \"fields\": [\"Publications\"], \"bind\": {\"input\": \"range\", \"max\": 15.0, \"min\": 1.0, \"name\": \"Nombre Minimum de Matchs: \", \"step\": 1}, \"init\": {\"Publications\": 1}}}, \"transform\": [{\"filter\": \"datum.Publications >= matches_Publications\"}], \"width\": 1200, \"$schema\": \"https://vega.github.io/schema/vega-lite/v4.17.0.json\", \"datasets\": {\"data-e9d50b18e96e9d21ce35caa31dbea40c\": [{\"Adversaire\": \"Amiens\", \"Publications\": 6, \"Victoire\": 4, \"D\\u00e9faite\": 1, \"Nul\": 1, \"Diff\\u00e9rence Victoire / D\\u00e9faite\": 3}, {\"Adversaire\": \"Angers\", \"Publications\": 14, \"Victoire\": 5, \"D\\u00e9faite\": 2, \"Nul\": 7, \"Diff\\u00e9rence Victoire / D\\u00e9faite\": 3}, {\"Adversaire\": \"Apollon Limassol\", \"Publications\": 2, \"Victoire\": 0, \"D\\u00e9faite\": 1, \"Nul\": 1, \"Diff\\u00e9rence Victoire / D\\u00e9faite\": -1}, {\"Adversaire\": \"Association sportive for\\u00e9zienne Andr\\u00e9zieux-Bouth\\u00e9on\", \"Publications\": 1, \"Victoire\": 0, \"D\\u00e9faite\": 1, \"Nul\": 0, \"Diff\\u00e9rence Victoire / D\\u00e9faite\": -1}, {\"Adversaire\": \"Athletic Bilbao\", \"Publications\": 3, \"Victoire\": 2, \"D\\u00e9faite\": 0, \"Nul\": 1, \"Diff\\u00e9rence Victoire / D\\u00e9faite\": 2}, {\"Adversaire\": \"Atletico Madrid\", \"Publications\": 1, \"Victoire\": 0, \"D\\u00e9faite\": 1, \"Nul\": 0, \"Diff\\u00e9rence Victoire / D\\u00e9faite\": -1}, {\"Adversaire\": \"Auxerre\", \"Publications\": 1, \"Victoire\": 1, \"D\\u00e9faite\": 0, \"Nul\": 0, \"Diff\\u00e9rence Victoire / D\\u00e9faite\": 1}, {\"Adversaire\": \"Bastia\", \"Publications\": 4, \"Victoire\": 3, \"D\\u00e9faite\": 1, \"Nul\": 0, \"Diff\\u00e9rence Victoire / D\\u00e9faite\": 2}, {\"Adversaire\": \"Bordeaux\", \"Publications\": 14, \"Victoire\": 5, \"D\\u00e9faite\": 1, \"Nul\": 8, \"Diff\\u00e9rence Victoire / D\\u00e9faite\": 4}, {\"Adversaire\": \"Bourpe\", \"Publications\": 2, \"Victoire\": 2, \"D\\u00e9faite\": 0, \"Nul\": 0, \"Diff\\u00e9rence Victoire / D\\u00e9faite\": 2}, {\"Adversaire\": \"Braga\", \"Publications\": 4, \"Victoire\": 2, \"D\\u00e9faite\": 2, \"Nul\": 0, \"Diff\\u00e9rence Victoire / D\\u00e9faite\": 0}, {\"Adversaire\": \"Brest\", \"Publications\": 5, \"Victoire\": 4, \"D\\u00e9faite\": 1, \"Nul\": 0, \"Diff\\u00e9rence Victoire / D\\u00e9faite\": 3}, {\"Adversaire\": \"B\\u00e2le\", \"Publications\": 2, \"Victoire\": 2, \"D\\u00e9faite\": 0, \"Nul\": 0, \"Diff\\u00e9rence Victoire / D\\u00e9faite\": 2}, {\"Adversaire\": \"Caen\", \"Publications\": 9, \"Victoire\": 7, \"D\\u00e9faite\": 1, \"Nul\": 1, \"Diff\\u00e9rence Victoire / D\\u00e9faite\": 6}, {\"Adversaire\": \"Canet-en-Roussillon\", \"Publications\": 1, \"Victoire\": 0, \"D\\u00e9faite\": 1, \"Nul\": 0, \"Diff\\u00e9rence Victoire / D\\u00e9faite\": -1}, {\"Adversaire\": \"Cannet-Rocheville\", \"Publications\": 1, \"Victoire\": 1, \"D\\u00e9faite\": 0, \"Nul\": 0, \"Diff\\u00e9rence Victoire / D\\u00e9faite\": 1}, {\"Adversaire\": \"Chauvigny\", \"Publications\": 1, \"Victoire\": 1, \"D\\u00e9faite\": 0, \"Nul\": 0, \"Diff\\u00e9rence Victoire / D\\u00e9faite\": 1}, {\"Adversaire\": \"Clermont\", \"Publications\": 3, \"Victoire\": 2, \"D\\u00e9faite\": 1, \"Nul\": 0, \"Diff\\u00e9rence Victoire / D\\u00e9faite\": 1}, {\"Adversaire\": \"Dijon\", \"Publications\": 9, \"Victoire\": 6, \"D\\u00e9faite\": 0, \"Nul\": 3, \"Diff\\u00e9rence Victoire / D\\u00e9faite\": 6}, {\"Adversaire\": \"Domzale\", \"Publications\": 2, \"Victoire\": 1, \"D\\u00e9faite\": 0, \"Nul\": 1, \"Diff\\u00e9rence Victoire / D\\u00e9faite\": 1}, {\"Adversaire\": \"Epinal\", \"Publications\": 1, \"Victoire\": 1, \"D\\u00e9faite\": 0, \"Nul\": 0, \"Diff\\u00e9rence Victoire / D\\u00e9faite\": 1}, {\"Adversaire\": \"Feyenoord\", \"Publications\": 2, \"Victoire\": 0, \"D\\u00e9faite\": 1, \"Nul\": 1, \"Diff\\u00e9rence Victoire / D\\u00e9faite\": -1}, {\"Adversaire\": \"Francfort\", \"Publications\": 2, \"Victoire\": 0, \"D\\u00e9faite\": 2, \"Nul\": 0, \"Diff\\u00e9rence Victoire / D\\u00e9faite\": -2}, {\"Adversaire\": \"Galatasaray\", \"Publications\": 2, \"Victoire\": 0, \"D\\u00e9faite\": 1, \"Nul\": 1, \"Diff\\u00e9rence Victoire / D\\u00e9faite\": -1}, {\"Adversaire\": \"Gaz\\u00e9lec Ajaccio\", \"Publications\": 2, \"Victoire\": 0, \"D\\u00e9faite\": 0, \"Nul\": 2, \"Diff\\u00e9rence Victoire / D\\u00e9faite\": 0}, {\"Adversaire\": \"Granville\", \"Publications\": 2, \"Victoire\": 2, \"D\\u00e9faite\": 0, \"Nul\": 0, \"Diff\\u00e9rence Victoire / D\\u00e9faite\": 2}, {\"Adversaire\": \"Groningue\", \"Publications\": 2, \"Victoire\": 2, \"D\\u00e9faite\": 0, \"Nul\": 0, \"Diff\\u00e9rence Victoire / D\\u00e9faite\": 2}, {\"Adversaire\": \"Guingamp\", \"Publications\": 8, \"Victoire\": 4, \"D\\u00e9faite\": 2, \"Nul\": 2, \"Diff\\u00e9rence Victoire / D\\u00e9faite\": 2}, {\"Adversaire\": \"Konyaspor\", \"Publications\": 2, \"Victoire\": 1, \"D\\u00e9faite\": 0, \"Nul\": 1, \"Diff\\u00e9rence Victoire / D\\u00e9faite\": 1}, {\"Adversaire\": \"Lazio\", \"Publications\": 4, \"Victoire\": 0, \"D\\u00e9faite\": 2, \"Nul\": 2, \"Diff\\u00e9rence Victoire / D\\u00e9faite\": -2}, {\"Adversaire\": \"Leipzig\", \"Publications\": 2, \"Victoire\": 1, \"D\\u00e9faite\": 1, \"Nul\": 0, \"Diff\\u00e9rence Victoire / D\\u00e9faite\": 0}, {\"Adversaire\": \"Lens\", \"Publications\": 4, \"Victoire\": 1, \"D\\u00e9faite\": 2, \"Nul\": 1, \"Diff\\u00e9rence Victoire / D\\u00e9faite\": -1}, {\"Adversaire\": \"Liberec\", \"Publications\": 2, \"Victoire\": 1, \"D\\u00e9faite\": 1, \"Nul\": 0, \"Diff\\u00e9rence Victoire / D\\u00e9faite\": 0}, {\"Adversaire\": \"Lille\", \"Publications\": 14, \"Victoire\": 6, \"D\\u00e9faite\": 4, \"Nul\": 4, \"Diff\\u00e9rence Victoire / D\\u00e9faite\": 2}, {\"Adversaire\": \"Lokomotiv Moscou\", \"Publications\": 2, \"Victoire\": 1, \"D\\u00e9faite\": 0, \"Nul\": 1, \"Diff\\u00e9rence Victoire / D\\u00e9faite\": 1}, {\"Adversaire\": \"Lorient\", \"Publications\": 8, \"Victoire\": 6, \"D\\u00e9faite\": 0, \"Nul\": 2, \"Diff\\u00e9rence Victoire / D\\u00e9faite\": 6}, {\"Adversaire\": \"Lyon\", \"Publications\": 15, \"Victoire\": 2, \"D\\u00e9faite\": 8, \"Nul\": 5, \"Diff\\u00e9rence Victoire / D\\u00e9faite\": -6}, {\"Adversaire\": \"Manchester City\", \"Publications\": 2, \"Victoire\": 0, \"D\\u00e9faite\": 2, \"Nul\": 0, \"Diff\\u00e9rence Victoire / D\\u00e9faite\": -2}, {\"Adversaire\": \"Metz\", \"Publications\": 9, \"Victoire\": 4, \"D\\u00e9faite\": 1, \"Nul\": 4, \"Diff\\u00e9rence Victoire / D\\u00e9faite\": 3}, {\"Adversaire\": \"Milan AC\", \"Publications\": 1, \"Victoire\": 1, \"D\\u00e9faite\": 0, \"Nul\": 0, \"Diff\\u00e9rence Victoire / D\\u00e9faite\": 1}, {\"Adversaire\": \"Monaco\", \"Publications\": 15, \"Victoire\": 4, \"D\\u00e9faite\": 8, \"Nul\": 3, \"Diff\\u00e9rence Victoire / D\\u00e9faite\": -4}, {\"Adversaire\": \"Montpellier\", \"Publications\": 15, \"Victoire\": 7, \"D\\u00e9faite\": 2, \"Nul\": 6, \"Diff\\u00e9rence Victoire / D\\u00e9faite\": 5}, {\"Adversaire\": \"Nancy\", \"Publications\": 2, \"Victoire\": 1, \"D\\u00e9faite\": 0, \"Nul\": 1, \"Diff\\u00e9rence Victoire / D\\u00e9faite\": 1}, {\"Adversaire\": \"Nantes\", \"Publications\": 14, \"Victoire\": 6, \"D\\u00e9faite\": 4, \"Nul\": 4, \"Diff\\u00e9rence Victoire / D\\u00e9faite\": 2}, {\"Adversaire\": \"Nice\", \"Publications\": 13, \"Victoire\": 8, \"D\\u00e9faite\": 4, \"Nul\": 1, \"Diff\\u00e9rence Victoire / D\\u00e9faite\": 4}, {\"Adversaire\": \"N\\u00eemes\", \"Publications\": 6, \"Victoire\": 4, \"D\\u00e9faite\": 2, \"Nul\": 0, \"Diff\\u00e9rence Victoire / D\\u00e9faite\": 2}, {\"Adversaire\": \"Olympiakos\", \"Publications\": 2, \"Victoire\": 1, \"D\\u00e9faite\": 1, \"Nul\": 0, \"Diff\\u00e9rence Victoire / D\\u00e9faite\": 0}, {\"Adversaire\": \"Ostende\", \"Publications\": 2, \"Victoire\": 1, \"D\\u00e9faite\": 0, \"Nul\": 1, \"Diff\\u00e9rence Victoire / D\\u00e9faite\": 1}, {\"Adversaire\": \"PAOK\", \"Publications\": 1, \"Victoire\": 1, \"D\\u00e9faite\": 0, \"Nul\": 0, \"Diff\\u00e9rence Victoire / D\\u00e9faite\": 1}, {\"Adversaire\": \"PAOK Salonique\", \"Publications\": 1, \"Victoire\": 1, \"D\\u00e9faite\": 0, \"Nul\": 0, \"Diff\\u00e9rence Victoire / D\\u00e9faite\": 1}, {\"Adversaire\": \"PSG\", \"Publications\": 15, \"Victoire\": 1, \"D\\u00e9faite\": 11, \"Nul\": 3, \"Diff\\u00e9rence Victoire / D\\u00e9faite\": -10}, {\"Adversaire\": \"Porto\", \"Publications\": 2, \"Victoire\": 0, \"D\\u00e9faite\": 2, \"Nul\": 0, \"Diff\\u00e9rence Victoire / D\\u00e9faite\": -2}, {\"Adversaire\": \"Qarabag\", \"Publications\": 2, \"Victoire\": 2, \"D\\u00e9faite\": 0, \"Nul\": 0, \"Diff\\u00e9rence Victoire / D\\u00e9faite\": 2}, {\"Adversaire\": \"Reims\", \"Publications\": 9, \"Victoire\": 3, \"D\\u00e9faite\": 3, \"Nul\": 3, \"Diff\\u00e9rence Victoire / D\\u00e9faite\": 0}, {\"Adversaire\": \"Rennes\", \"Publications\": 15, \"Victoire\": 6, \"D\\u00e9faite\": 5, \"Nul\": 4, \"Diff\\u00e9rence Victoire / D\\u00e9faite\": 1}, {\"Adversaire\": \"Saint-\\u00c9tienne\", \"Publications\": 14, \"Victoire\": 8, \"D\\u00e9faite\": 3, \"Nul\": 3, \"Diff\\u00e9rence Victoire / D\\u00e9faite\": 5}, {\"Adversaire\": \"Salzburg\", \"Publications\": 4, \"Victoire\": 1, \"D\\u00e9faite\": 2, \"Nul\": 1, \"Diff\\u00e9rence Victoire / D\\u00e9faite\": -1}, {\"Adversaire\": \"Sochaux\", \"Publications\": 2, \"Victoire\": 1, \"D\\u00e9faite\": 0, \"Nul\": 1, \"Diff\\u00e9rence Victoire / D\\u00e9faite\": 1}, {\"Adversaire\": \"Strasbourg\", \"Publications\": 10, \"Victoire\": 6, \"D\\u00e9faite\": 0, \"Nul\": 4, \"Diff\\u00e9rence Victoire / D\\u00e9faite\": 6}, {\"Adversaire\": \"Toulouse\", \"Publications\": 12, \"Victoire\": 7, \"D\\u00e9faite\": 1, \"Nul\": 4, \"Diff\\u00e9rence Victoire / D\\u00e9faite\": 6}, {\"Adversaire\": \"Troyes\", \"Publications\": 6, \"Victoire\": 4, \"D\\u00e9faite\": 0, \"Nul\": 2, \"Diff\\u00e9rence Victoire / D\\u00e9faite\": 4}, {\"Adversaire\": \"Tr\\u00e9lissac\", \"Publications\": 1, \"Victoire\": 0, \"D\\u00e9faite\": 0, \"Nul\": 1, \"Diff\\u00e9rence Victoire / D\\u00e9faite\": 0}, {\"Adversaire\": \"Valenciennes\", \"Publications\": 1, \"Victoire\": 1, \"D\\u00e9faite\": 0, \"Nul\": 0, \"Diff\\u00e9rence Victoire / D\\u00e9faite\": 1}, {\"Adversaire\": \"Vitoria Guimares\", \"Publications\": 2, \"Victoire\": 1, \"D\\u00e9faite\": 1, \"Nul\": 0, \"Diff\\u00e9rence Victoire / D\\u00e9faite\": 0}]}}, {\"mode\": \"vega-lite\"});\n",
       "</script>"
      ],
      "text/plain": [
       "alt.Chart(...)"
      ]
     },
     "execution_count": 20,
     "metadata": {},
     "output_type": "execute_result"
    }
   ],
   "source": [
    "chart = alt.Chart(by_adv).mark_bar().encode(\n",
    "    y=\"Différence Victoire / Défaite\",\n",
    "    x=alt.X(\n",
    "        \"Adversaire:O\", \n",
    "        sort=alt.EncodingSortField(field=\"Différence Victoire / Défaite\"),\n",
    "        axis=alt.Axis(labelAngle=-45)\n",
    "    ),\n",
    "    color=alt.Color(\"Différence Victoire / Défaite\", scale=alt.Scale(domain=[-10, 10], scheme=\"redyellowgreen\")),\n",
    "    tooltip=[\"Adversaire\", \"Victoire\", \"Nul\", \"Défaite\", alt.Tooltip(\"Publications\", title=\"Nb Matches\")]\n",
    ").add_selection(\n",
    "    select_nb_matches\n",
    ").transform_filter(\n",
    "    \"datum.Publications >= matches_Publications\"\n",
    "). properties(height=600,width=1200)\n",
    "\n",
    "chart"
   ]
  }
 ],
 "metadata": {
  "interpreter": {
   "hash": "d9e805aa8ac319eefc9353c366eb92d8f2522d9c8c7b0b1e1b16b69f36a301f7"
  },
  "kernelspec": {
   "display_name": "Python 3 (ipykernel)",
   "language": "python",
   "name": "python3"
  },
  "language_info": {
   "codemirror_mode": {
    "name": "ipython",
    "version": 3
   },
   "file_extension": ".py",
   "mimetype": "text/x-python",
   "name": "python",
   "nbconvert_exporter": "python",
   "pygments_lexer": "ipython3",
   "version": "3.8.10"
  },
  "title": "Les Adversaires"
 },
 "nbformat": 4,
 "nbformat_minor": 4
}
